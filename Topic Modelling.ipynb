{
 "cells": [
  {
   "cell_type": "code",
   "execution_count": 460,
   "metadata": {},
   "outputs": [],
   "source": [
    "import nltk\n",
    "import numpy as np\n",
    "import pandas as pd\n",
    "import sqlite3\n",
    "import pickle\n",
    "from nltk.tokenize import sent_tokenize\n",
    "from nltk.tokenize import word_tokenize\n",
    "from sklearn.feature_extraction.text import CountVectorizer\n",
    "from itertools import combinations \n",
    "from scipy.stats import pearsonr\n",
    "from sklearn.metrics.pairwise import euclidean_distances\n",
    "from sklearn.metrics.pairwise import pairwise_distances\n",
    "from nltk.corpus import stopwords\n",
    "from sklearn.decomposition import NMF"
   ]
  },
  {
   "cell_type": "markdown",
   "metadata": {},
   "source": [
    "# Initialize Databases"
   ]
  },
  {
   "cell_type": "code",
   "execution_count": 464,
   "metadata": {},
   "outputs": [
    {
     "data": {
      "text/plain": [
       "array(['tags', 'tids', 'tid_tag'], dtype=object)"
      ]
     },
     "execution_count": 464,
     "metadata": {},
     "output_type": "execute_result"
    }
   ],
   "source": [
    "tags_conn = sqlite3.connect('lastfm_tags.db')\n",
    "\n",
    "tags_tables = pd.read_sql_query(\n",
    "    \"\"\"\n",
    "    SELECT * FROM sqlite_master;\n",
    "    \"\"\"\n",
    "    , tags_conn)\n",
    "\n",
    "tags_tables.tbl_name.unique()"
   ]
  },
  {
   "cell_type": "code",
   "execution_count": 465,
   "metadata": {},
   "outputs": [
    {
     "data": {
      "text/plain": [
       "array(['words', 'lyrics'], dtype=object)"
      ]
     },
     "execution_count": 465,
     "metadata": {},
     "output_type": "execute_result"
    }
   ],
   "source": [
    "mxm_conn = sqlite3.connect('mxm_dataset.db')\n",
    "\n",
    "schema_query = \"SELECT * FROM sqlite_master;\"\n",
    "df_schema = pd.read_sql_query(schema_query, mxm_conn)\n",
    "df_schema.tbl_name.unique()"
   ]
  },
  {
   "cell_type": "markdown",
   "metadata": {},
   "source": [
    "# Import mismatched data to remove from sample"
   ]
  },
  {
   "cell_type": "markdown",
   "metadata": {},
   "source": [
    "See post about data errors here: http://millionsongdataset.com/blog/12-1-2-matching-errors-taste-profile-and-msd/"
   ]
  },
  {
   "cell_type": "code",
   "execution_count": 496,
   "metadata": {},
   "outputs": [],
   "source": [
    "sid_mismatches = pd.read_csv('sid_mismatches.txt',engine='python',header=None,index_col=False,sep='\\s+')[2]\n",
    "sid_mismatches = sid_mismatches.str.replace('>$',\"\").tolist()"
   ]
  },
  {
   "cell_type": "markdown",
   "metadata": {},
   "source": [
    "# Sample Generation"
   ]
  },
  {
   "cell_type": "markdown",
   "metadata": {},
   "source": [
    "#### Generate sample track ids by genre"
   ]
  },
  {
   "cell_type": "code",
   "execution_count": null,
   "metadata": {},
   "outputs": [],
   "source": [
    "# genres=['rock','pop','folk','alternative','blues','country','electronic', 'Hip-Hop']\n",
    "# samples_from_genre = {}\n",
    "# for genre in genres:\n",
    "#     sql = \"\"\"\n",
    "#         SELECT *\n",
    "#         FROM tid_tag, tids, tags\n",
    "#         WHERE tags.ROWID=tid_tag.tag\n",
    "#             AND tid_tag.tid=tids.ROWID\n",
    "#             AND tags.tag = '%s'\n",
    "#             and tid_tag.val = 100\n",
    "#         \"\"\"%genre\n",
    "\n",
    "#     df = pd.read_sql_query(sql, tags_conn)\n",
    "#     samples_from_genre[genre] = df.sample(n=2000)\n",
    "\n",
    "# genre_sample = pd.DataFrame()\n",
    "# for key in samples_from_genre.keys():\n",
    "#     genre_sample = genre_sample.append(samples_from_genre[key]) \n",
    "# genre_sample = genre_sample.reset_index().iloc[:,-2:]\n",
    "# genre_sample = genre_sample.drop_duplicates(subset='tid')\n",
    "# genre_sample = genre_sample.rename(columns={'tid':'track_id'})\n",
    "\n",
    "# # removing songs mismatched in data\n",
    "# genre_sample = genre_sample[~genre_sample['track_id'].isin(sid_mismatches)]\n",
    "# with open('genre_sample.pickle', 'wb') as f:\n",
    "#     pickle.dump(genre_sample, f, protocol=4)"
   ]
  },
  {
   "cell_type": "code",
   "execution_count": 504,
   "metadata": {},
   "outputs": [
    {
     "name": "stdout",
     "output_type": "stream",
     "text": [
      "There are 15290 from the following genres: ['rock', 'pop', 'folk', 'alternative', 'blues', 'country', 'electronic', 'Hip-Hop']\n"
     ]
    }
   ],
   "source": [
    "with open('genre_sample.pickle', 'rb') as f:\n",
    "    genre_sample = pickle.load(f)\n",
    "print(f\"There are {len(genre_sample['track_id'].value_counts())} from the following genres: {genres}\")"
   ]
  },
  {
   "cell_type": "markdown",
   "metadata": {},
   "source": [
    "# Import all tags data on Sample Tracks"
   ]
  },
  {
   "cell_type": "markdown",
   "metadata": {},
   "source": [
    "Random sample tags"
   ]
  },
  {
   "cell_type": "code",
   "execution_count": 59,
   "metadata": {},
   "outputs": [],
   "source": [
    "# track_tags = pd.DataFrame()\n",
    "# for item in sample['track_id'].iteritems():\n",
    "#     tid = item[1]\n",
    "#     sql = \"\"\"\n",
    "#     SELECT tags.tag, tid_tag.val\n",
    "#     FROM tid_tag, tids, tags\n",
    "#     WHERE tags.ROWID=tid_tag.tag AND tid_tag.tid=tids.ROWID and tids.tid='%s'\n",
    "#     \"\"\" % tid\n",
    "\n",
    "#     tags = pd.read_sql_query(sql, tags_conn)\n",
    "#     tags['track_id'] = tid\n",
    "#     track_tags = track_tags.append(tags).reset_index(drop=True)\n",
    "    \n",
    "# track_tags = track_tags.sort_values(by=['track_id','val'],ascending=[True,False])\n",
    "# track_tags = track_tags[track_tags['val']==100] \n",
    "# with open('track_tags.pickle', 'wb') as f:\n",
    "#     pickle.dump(track_tags, f, protocol=4)"
   ]
  },
  {
   "cell_type": "code",
   "execution_count": 60,
   "metadata": {},
   "outputs": [],
   "source": [
    "# with open('track_tags.pickle', 'rb') as f:\n",
    "#     track_tags = pickle.load(f)\n",
    "# track_tags['tag'] = track_tags['tag'] +' genre'\n",
    "\n",
    "# print(track_tags.sample(n=5))\n",
    "\n",
    "\n",
    "# sorted_tags = track_tags.groupby(['tag']).count().reset_index().sort_values(by='val',ascending=False)\n",
    "# sorted_tags['share of sample'] = sorted_tags['val']/sorted_tags['val'].sum()\n",
    "# top10genres = sorted_tags['tag'].head(10).tolist()\n",
    "# print()\n",
    "# print(top10genres)\n",
    "\n",
    "# track_tags_wide = track_tags.pivot(index='track_id',values='val',columns='tag').reset_index().fillna(0)\n",
    "# track_tags_wide.head()"
   ]
  },
  {
   "cell_type": "markdown",
   "metadata": {},
   "source": [
    "Sample from genres"
   ]
  },
  {
   "cell_type": "code",
   "execution_count": 497,
   "metadata": {},
   "outputs": [],
   "source": [
    "# genre_track_tags = pd.DataFrame()\n",
    "# for item in genre_sample['track_id'].iteritems():\n",
    "#     tid = item[1]\n",
    "#     sql = \"\"\"\n",
    "#     SELECT tags.tag, tid_tag.val\n",
    "#     FROM tid_tag, tids, tags\n",
    "#     WHERE tags.ROWID=tid_tag.tag AND tid_tag.tid=tids.ROWID and tids.tid='%s'\n",
    "#     \"\"\" % tid\n",
    "\n",
    "#     tags = pd.read_sql_query(sql, tags_conn)\n",
    "#     tags['track_id'] = tid\n",
    "#     genre_track_tags = genre_track_tags.append(tags).reset_index(drop=True)\n",
    "    \n",
    "# genre_track_tags = genre_track_tags.sort_values(by=['track_id','val'],ascending=[True,False])\n",
    "# genre_track_tags = genre_track_tags[genre_track_tags['val']==100] \n",
    "# with open('genre_track_tags.pickle', 'wb') as f:\n",
    "#     pickle.dump(genre_track_tags, f, protocol=4)"
   ]
  },
  {
   "cell_type": "code",
   "execution_count": 498,
   "metadata": {},
   "outputs": [
    {
     "name": "stdout",
     "output_type": "stream",
     "text": [
      "                      tag    val            track_id\n",
      "4999        strange genre  100.0  TRMFVKK128F9324704\n",
      "105202         folk genre  100.0  TRGSBVJ128F42633CF\n",
      "292821      Hip-Hop genre  100.0  TRZLEPI128F1462491\n",
      "230577   avantgarde genre  100.0  TRYJNOU12903CA9318\n",
      "170098  alternative genre  100.0  TRDXGRU128F429F043\n",
      "\n",
      "['rock genre', 'pop genre', 'alternative genre', 'electronic genre', 'folk genre', 'country genre', 'blues genre', 'Hip-Hop genre', 'indie genre', 'female vocalists genre']\n"
     ]
    },
    {
     "data": {
      "text/html": [
       "<div>\n",
       "<style scoped>\n",
       "    .dataframe tbody tr th:only-of-type {\n",
       "        vertical-align: middle;\n",
       "    }\n",
       "\n",
       "    .dataframe tbody tr th {\n",
       "        vertical-align: top;\n",
       "    }\n",
       "\n",
       "    .dataframe thead th {\n",
       "        text-align: right;\n",
       "    }\n",
       "</style>\n",
       "<table border=\"1\" class=\"dataframe\">\n",
       "  <thead>\n",
       "    <tr style=\"text-align: right;\">\n",
       "      <th>tag</th>\n",
       "      <th>track_id</th>\n",
       "      <th>rock genre</th>\n",
       "      <th>pop genre</th>\n",
       "      <th>alternative genre</th>\n",
       "      <th>electronic genre</th>\n",
       "      <th>folk genre</th>\n",
       "      <th>country genre</th>\n",
       "      <th>blues genre</th>\n",
       "      <th>Hip-Hop genre</th>\n",
       "      <th>indie genre</th>\n",
       "      <th>female vocalists genre</th>\n",
       "    </tr>\n",
       "  </thead>\n",
       "  <tbody>\n",
       "    <tr>\n",
       "      <th>0</th>\n",
       "      <td>TRAABLR128F423B7E3</td>\n",
       "      <td>0.0</td>\n",
       "      <td>0.0</td>\n",
       "      <td>0.0</td>\n",
       "      <td>0.0</td>\n",
       "      <td>0.0</td>\n",
       "      <td>100.0</td>\n",
       "      <td>100.0</td>\n",
       "      <td>0.0</td>\n",
       "      <td>0.0</td>\n",
       "      <td>0.0</td>\n",
       "    </tr>\n",
       "    <tr>\n",
       "      <th>1</th>\n",
       "      <td>TRAACMJ128F930C704</td>\n",
       "      <td>100.0</td>\n",
       "      <td>0.0</td>\n",
       "      <td>100.0</td>\n",
       "      <td>0.0</td>\n",
       "      <td>0.0</td>\n",
       "      <td>0.0</td>\n",
       "      <td>0.0</td>\n",
       "      <td>0.0</td>\n",
       "      <td>100.0</td>\n",
       "      <td>0.0</td>\n",
       "    </tr>\n",
       "    <tr>\n",
       "      <th>2</th>\n",
       "      <td>TRAADEB128F9335868</td>\n",
       "      <td>0.0</td>\n",
       "      <td>0.0</td>\n",
       "      <td>0.0</td>\n",
       "      <td>0.0</td>\n",
       "      <td>0.0</td>\n",
       "      <td>0.0</td>\n",
       "      <td>0.0</td>\n",
       "      <td>100.0</td>\n",
       "      <td>0.0</td>\n",
       "      <td>0.0</td>\n",
       "    </tr>\n",
       "    <tr>\n",
       "      <th>3</th>\n",
       "      <td>TRAAFFR128F42719EA</td>\n",
       "      <td>0.0</td>\n",
       "      <td>0.0</td>\n",
       "      <td>0.0</td>\n",
       "      <td>0.0</td>\n",
       "      <td>0.0</td>\n",
       "      <td>0.0</td>\n",
       "      <td>0.0</td>\n",
       "      <td>100.0</td>\n",
       "      <td>0.0</td>\n",
       "      <td>0.0</td>\n",
       "    </tr>\n",
       "    <tr>\n",
       "      <th>4</th>\n",
       "      <td>TRAAFHD12903CEC1EF</td>\n",
       "      <td>0.0</td>\n",
       "      <td>0.0</td>\n",
       "      <td>0.0</td>\n",
       "      <td>0.0</td>\n",
       "      <td>0.0</td>\n",
       "      <td>0.0</td>\n",
       "      <td>100.0</td>\n",
       "      <td>0.0</td>\n",
       "      <td>0.0</td>\n",
       "      <td>0.0</td>\n",
       "    </tr>\n",
       "  </tbody>\n",
       "</table>\n",
       "</div>"
      ],
      "text/plain": [
       "tag            track_id  rock genre  pop genre  alternative genre  \\\n",
       "0    TRAABLR128F423B7E3         0.0        0.0                0.0   \n",
       "1    TRAACMJ128F930C704       100.0        0.0              100.0   \n",
       "2    TRAADEB128F9335868         0.0        0.0                0.0   \n",
       "3    TRAAFFR128F42719EA         0.0        0.0                0.0   \n",
       "4    TRAAFHD12903CEC1EF         0.0        0.0                0.0   \n",
       "\n",
       "tag  electronic genre  folk genre  country genre  blues genre  Hip-Hop genre  \\\n",
       "0                 0.0         0.0          100.0        100.0            0.0   \n",
       "1                 0.0         0.0            0.0          0.0            0.0   \n",
       "2                 0.0         0.0            0.0          0.0          100.0   \n",
       "3                 0.0         0.0            0.0          0.0          100.0   \n",
       "4                 0.0         0.0            0.0        100.0            0.0   \n",
       "\n",
       "tag  indie genre  female vocalists genre  \n",
       "0            0.0                     0.0  \n",
       "1          100.0                     0.0  \n",
       "2            0.0                     0.0  \n",
       "3            0.0                     0.0  \n",
       "4            0.0                     0.0  "
      ]
     },
     "execution_count": 498,
     "metadata": {},
     "output_type": "execute_result"
    }
   ],
   "source": [
    "with open('genre_track_tags.pickle', 'rb') as f:\n",
    "    track_tags = pickle.load(f)\n",
    "track_tags['tag'] = track_tags['tag'] +' genre'\n",
    "\n",
    "print(track_tags.sample(n=5))\n",
    "\n",
    "\n",
    "sorted_tags = track_tags.groupby(['tag']).count().reset_index().sort_values(by='val',ascending=False)\n",
    "sorted_tags['share of sample'] = sorted_tags['val']/sorted_tags['val'].sum()\n",
    "top10genres = sorted_tags['tag'].head(10).tolist()\n",
    "print()\n",
    "print(top10genres)\n",
    "\n",
    "track_tags_wide = track_tags.pivot(index='track_id',values='val',columns='tag').reset_index().fillna(0)\n",
    "track_tags_wide[['track_id']+top10genres].head()"
   ]
  },
  {
   "cell_type": "markdown",
   "metadata": {},
   "source": [
    "# Import track names data"
   ]
  },
  {
   "cell_type": "code",
   "execution_count": 63,
   "metadata": {},
   "outputs": [],
   "source": [
    "track_names = pd.read_csv(\"mxm_779k_matches.txt\",skiprows=18,sep=\"<SEP>\", header=None, engine='python')\n",
    "\n",
    "track_names = track_names[[0,1,2]]\n",
    "track_names.columns = ['track_id','artist name','title']"
   ]
  },
  {
   "cell_type": "code",
   "execution_count": 64,
   "metadata": {
    "scrolled": true
   },
   "outputs": [
    {
     "data": {
      "text/html": [
       "<div>\n",
       "<style scoped>\n",
       "    .dataframe tbody tr th:only-of-type {\n",
       "        vertical-align: middle;\n",
       "    }\n",
       "\n",
       "    .dataframe tbody tr th {\n",
       "        vertical-align: top;\n",
       "    }\n",
       "\n",
       "    .dataframe thead th {\n",
       "        text-align: right;\n",
       "    }\n",
       "</style>\n",
       "<table border=\"1\" class=\"dataframe\">\n",
       "  <thead>\n",
       "    <tr style=\"text-align: right;\">\n",
       "      <th></th>\n",
       "      <th>track_id</th>\n",
       "      <th>artist name</th>\n",
       "      <th>title</th>\n",
       "    </tr>\n",
       "  </thead>\n",
       "  <tbody>\n",
       "    <tr>\n",
       "      <th>124927</th>\n",
       "      <td>TRCCILA128F42BA535</td>\n",
       "      <td>The Twilight Singers</td>\n",
       "      <td>Feathers</td>\n",
       "    </tr>\n",
       "  </tbody>\n",
       "</table>\n",
       "</div>"
      ],
      "text/plain": [
       "                  track_id           artist name     title\n",
       "124927  TRCCILA128F42BA535  The Twilight Singers  Feathers"
      ]
     },
     "execution_count": 64,
     "metadata": {},
     "output_type": "execute_result"
    }
   ],
   "source": [
    "track_names[track_names['track_id']=='TRCCILA128F42BA535']"
   ]
  },
  {
   "cell_type": "markdown",
   "metadata": {},
   "source": [
    "# Import word conversions data"
   ]
  },
  {
   "cell_type": "code",
   "execution_count": 127,
   "metadata": {},
   "outputs": [
    {
     "data": {
      "text/html": [
       "<div>\n",
       "<style scoped>\n",
       "    .dataframe tbody tr th:only-of-type {\n",
       "        vertical-align: middle;\n",
       "    }\n",
       "\n",
       "    .dataframe tbody tr th {\n",
       "        vertical-align: top;\n",
       "    }\n",
       "\n",
       "    .dataframe thead th {\n",
       "        text-align: right;\n",
       "    }\n",
       "</style>\n",
       "<table border=\"1\" class=\"dataframe\">\n",
       "  <thead>\n",
       "    <tr style=\"text-align: right;\">\n",
       "      <th></th>\n",
       "      <th>track_id</th>\n",
       "      <th>mxm_tid</th>\n",
       "      <th>word</th>\n",
       "      <th>count</th>\n",
       "      <th>is_test</th>\n",
       "      <th>tag</th>\n",
       "      <th>full word</th>\n",
       "      <th>_merge</th>\n",
       "    </tr>\n",
       "  </thead>\n",
       "  <tbody>\n",
       "    <tr>\n",
       "      <th>0</th>\n",
       "      <td>TRQTONH12903CF38F7</td>\n",
       "      <td>1002138</td>\n",
       "      <td>i</td>\n",
       "      <td>2</td>\n",
       "      <td>0</td>\n",
       "      <td>rock</td>\n",
       "      <td>i</td>\n",
       "      <td>both</td>\n",
       "    </tr>\n",
       "    <tr>\n",
       "      <th>1</th>\n",
       "      <td>TRQTONH12903CF38F7</td>\n",
       "      <td>1002138</td>\n",
       "      <td>the</td>\n",
       "      <td>6</td>\n",
       "      <td>0</td>\n",
       "      <td>rock</td>\n",
       "      <td>the</td>\n",
       "      <td>both</td>\n",
       "    </tr>\n",
       "    <tr>\n",
       "      <th>2</th>\n",
       "      <td>TRQTONH12903CF38F7</td>\n",
       "      <td>1002138</td>\n",
       "      <td>you</td>\n",
       "      <td>4</td>\n",
       "      <td>0</td>\n",
       "      <td>rock</td>\n",
       "      <td>you</td>\n",
       "      <td>both</td>\n",
       "    </tr>\n",
       "    <tr>\n",
       "      <th>3</th>\n",
       "      <td>TRQTONH12903CF38F7</td>\n",
       "      <td>1002138</td>\n",
       "      <td>to</td>\n",
       "      <td>2</td>\n",
       "      <td>0</td>\n",
       "      <td>rock</td>\n",
       "      <td>to</td>\n",
       "      <td>both</td>\n",
       "    </tr>\n",
       "    <tr>\n",
       "      <th>4</th>\n",
       "      <td>TRQTONH12903CF38F7</td>\n",
       "      <td>1002138</td>\n",
       "      <td>and</td>\n",
       "      <td>4</td>\n",
       "      <td>0</td>\n",
       "      <td>rock</td>\n",
       "      <td>and</td>\n",
       "      <td>both</td>\n",
       "    </tr>\n",
       "    <tr>\n",
       "      <th>...</th>\n",
       "      <td>...</td>\n",
       "      <td>...</td>\n",
       "      <td>...</td>\n",
       "      <td>...</td>\n",
       "      <td>...</td>\n",
       "      <td>...</td>\n",
       "      <td>...</td>\n",
       "      <td>...</td>\n",
       "    </tr>\n",
       "    <tr>\n",
       "      <th>167732</th>\n",
       "      <td>TREHPDX128F92DC86A</td>\n",
       "      <td>8269747</td>\n",
       "      <td>deni</td>\n",
       "      <td>3</td>\n",
       "      <td>0</td>\n",
       "      <td>electronic</td>\n",
       "      <td>deny</td>\n",
       "      <td>both</td>\n",
       "    </tr>\n",
       "    <tr>\n",
       "      <th>167733</th>\n",
       "      <td>TREHPDX128F92DC86A</td>\n",
       "      <td>8269747</td>\n",
       "      <td>asleep</td>\n",
       "      <td>1</td>\n",
       "      <td>0</td>\n",
       "      <td>electronic</td>\n",
       "      <td>asleep</td>\n",
       "      <td>both</td>\n",
       "    </tr>\n",
       "    <tr>\n",
       "      <th>167734</th>\n",
       "      <td>TREHPDX128F92DC86A</td>\n",
       "      <td>8269747</td>\n",
       "      <td>bottom</td>\n",
       "      <td>1</td>\n",
       "      <td>0</td>\n",
       "      <td>electronic</td>\n",
       "      <td>bottom</td>\n",
       "      <td>both</td>\n",
       "    </tr>\n",
       "    <tr>\n",
       "      <th>167735</th>\n",
       "      <td>TREHPDX128F92DC86A</td>\n",
       "      <td>8269747</td>\n",
       "      <td>mental</td>\n",
       "      <td>1</td>\n",
       "      <td>0</td>\n",
       "      <td>electronic</td>\n",
       "      <td>mental</td>\n",
       "      <td>both</td>\n",
       "    </tr>\n",
       "    <tr>\n",
       "      <th>167736</th>\n",
       "      <td>TREHPDX128F92DC86A</td>\n",
       "      <td>8269747</td>\n",
       "      <td>robot</td>\n",
       "      <td>2</td>\n",
       "      <td>0</td>\n",
       "      <td>electronic</td>\n",
       "      <td>robot</td>\n",
       "      <td>both</td>\n",
       "    </tr>\n",
       "  </tbody>\n",
       "</table>\n",
       "<p>167737 rows × 8 columns</p>\n",
       "</div>"
      ],
      "text/plain": [
       "                  track_id  mxm_tid    word count is_test         tag  \\\n",
       "0       TRQTONH12903CF38F7  1002138       i     2       0        rock   \n",
       "1       TRQTONH12903CF38F7  1002138     the     6       0        rock   \n",
       "2       TRQTONH12903CF38F7  1002138     you     4       0        rock   \n",
       "3       TRQTONH12903CF38F7  1002138      to     2       0        rock   \n",
       "4       TRQTONH12903CF38F7  1002138     and     4       0        rock   \n",
       "...                    ...      ...     ...   ...     ...         ...   \n",
       "167732  TREHPDX128F92DC86A  8269747    deni     3       0  electronic   \n",
       "167733  TREHPDX128F92DC86A  8269747  asleep     1       0  electronic   \n",
       "167734  TREHPDX128F92DC86A  8269747  bottom     1       0  electronic   \n",
       "167735  TREHPDX128F92DC86A  8269747  mental     1       0  electronic   \n",
       "167736  TREHPDX128F92DC86A  8269747   robot     2       0  electronic   \n",
       "\n",
       "       full word _merge  \n",
       "0              i   both  \n",
       "1            the   both  \n",
       "2            you   both  \n",
       "3             to   both  \n",
       "4            and   both  \n",
       "...          ...    ...  \n",
       "167732      deny   both  \n",
       "167733    asleep   both  \n",
       "167734    bottom   both  \n",
       "167735    mental   both  \n",
       "167736     robot   both  \n",
       "\n",
       "[167737 rows x 8 columns]"
      ]
     },
     "execution_count": 127,
     "metadata": {},
     "output_type": "execute_result"
    }
   ],
   "source": [
    "word_convert = pd.read_csv(\"mxm_reverse_mapping.txt\",skiprows=18,sep=\"<SEP>\", header=None, engine='python')\n",
    "\n",
    "word_convert.columns = ['word','full word']"
   ]
  },
  {
   "cell_type": "markdown",
   "metadata": {},
   "source": [
    "# Import lyrics data "
   ]
  },
  {
   "cell_type": "markdown",
   "metadata": {},
   "source": [
    "Manual Track Lookup"
   ]
  },
  {
   "cell_type": "code",
   "execution_count": 452,
   "metadata": {
    "scrolled": true
   },
   "outputs": [
    {
     "data": {
      "text/plain": [
       "[]"
      ]
     },
     "execution_count": 452,
     "metadata": {},
     "output_type": "execute_result"
    }
   ],
   "source": [
    "tid = \"TRULYTD12903CC53A0\"\n",
    "sql = \"\"\"\n",
    "SELECT m.track_id, m.mxm_tid, m.word, m.count, m.is_test\n",
    "FROM lyrics as m\n",
    "WHERE m.track_id='%s'\n",
    "\"\"\" % tid\n",
    "list1 = pd.read_sql_query(sql, mxm_conn).sort_values(by='word',ascending=False)['word'].tolist()\n",
    "list2 = pd.read_sql_query(sql, mxm_conn).sort_values(by='word',ascending=False)['count'].tolist()\n",
    "list(zip(list1,list2))"
   ]
  },
  {
   "cell_type": "markdown",
   "metadata": {},
   "source": [
    "#### Sample tracks data created here"
   ]
  },
  {
   "cell_type": "markdown",
   "metadata": {},
   "source": [
    "Sample with genre"
   ]
  },
  {
   "cell_type": "code",
   "execution_count": null,
   "metadata": {},
   "outputs": [],
   "source": [
    "# genre_sample_tracks = pd.DataFrame()\n",
    "# errors = []\n",
    "# for item in genre_sample['track_id'].iteritems():\n",
    "#     tid = item[1]\n",
    "#     sql = \"\"\"\n",
    "#     SELECT m.track_id, m.mxm_tid, m.word, m.count, m.is_test\n",
    "#     FROM lyrics as m\n",
    "#     WHERE m.track_id='%s'\n",
    "#     \"\"\" % tid\n",
    "\n",
    "#     words = pd.read_sql_query(sql, mxm_conn)\n",
    "#     if len(words) == 0:\n",
    "#         errors.append(tid)\n",
    "#     words['track_id'] = tid\n",
    "#     genre_sample_tracks = genre_sample_tracks.append(words)\n",
    "\n",
    "# print(len(genre_sample_tracks['track_id'].value_counts()))\n",
    "# # print(errors)\n",
    "\n",
    "# with open('genre_sample_tracks.pickle', 'wb') as f:\n",
    "#     pickle.dump(genre_sample_tracks, f, protocol=4)"
   ]
  },
  {
   "cell_type": "code",
   "execution_count": 522,
   "metadata": {},
   "outputs": [
    {
     "name": "stdout",
     "output_type": "stream",
     "text": [
      "displaying 5 random words to be updated from their stems\n",
      "          word  full word\n",
      "292747   final    finally\n",
      "485957    yall      y'all\n",
      "211270     whi        why\n",
      "14564   embrac    embrace\n",
      "50573    miser  miserable\n",
      "\n",
      "total number of track is 6122\n",
      "rock           1042\n",
      "pop             959\n",
      "country         956\n",
      "alternative     948\n",
      "folk            770\n",
      "Hip-Hop         749\n",
      "blues           360\n",
      "electronic      338\n",
      "Name: tag, dtype: int64\n"
     ]
    },
    {
     "data": {
      "text/html": [
       "<div>\n",
       "<style scoped>\n",
       "    .dataframe tbody tr th:only-of-type {\n",
       "        vertical-align: middle;\n",
       "    }\n",
       "\n",
       "    .dataframe tbody tr th {\n",
       "        vertical-align: top;\n",
       "    }\n",
       "\n",
       "    .dataframe thead th {\n",
       "        text-align: right;\n",
       "    }\n",
       "</style>\n",
       "<table border=\"1\" class=\"dataframe\">\n",
       "  <thead>\n",
       "    <tr style=\"text-align: right;\">\n",
       "      <th></th>\n",
       "      <th>track_id</th>\n",
       "      <th>mxm_tid</th>\n",
       "      <th>word</th>\n",
       "      <th>is_test</th>\n",
       "      <th>tag</th>\n",
       "      <th>count</th>\n",
       "    </tr>\n",
       "  </thead>\n",
       "  <tbody>\n",
       "    <tr>\n",
       "      <th>113220</th>\n",
       "      <td>TRFCHDD128EF354479</td>\n",
       "      <td>8797406</td>\n",
       "      <td>page</td>\n",
       "      <td>0</td>\n",
       "      <td>Hip-Hop</td>\n",
       "      <td>1</td>\n",
       "    </tr>\n",
       "    <tr>\n",
       "      <th>405527</th>\n",
       "      <td>TRSXEPD12903CE4AD5</td>\n",
       "      <td>2585491</td>\n",
       "      <td>someone</td>\n",
       "      <td>0</td>\n",
       "      <td>country</td>\n",
       "      <td>3</td>\n",
       "    </tr>\n",
       "    <tr>\n",
       "      <th>193458</th>\n",
       "      <td>TRISWMQ128F427FB79</td>\n",
       "      <td>1574638</td>\n",
       "      <td>mie</td>\n",
       "      <td>0</td>\n",
       "      <td>alternative</td>\n",
       "      <td>1</td>\n",
       "    </tr>\n",
       "    <tr>\n",
       "      <th>138094</th>\n",
       "      <td>TRGGCWF128F4248618</td>\n",
       "      <td>5236397</td>\n",
       "      <td>truth</td>\n",
       "      <td>0</td>\n",
       "      <td>Hip-Hop</td>\n",
       "      <td>1</td>\n",
       "    </tr>\n",
       "    <tr>\n",
       "      <th>354153</th>\n",
       "      <td>TRQMZTV128F4261E8C</td>\n",
       "      <td>897515</td>\n",
       "      <td>scars</td>\n",
       "      <td>0</td>\n",
       "      <td>Hip-Hop</td>\n",
       "      <td>1</td>\n",
       "    </tr>\n",
       "  </tbody>\n",
       "</table>\n",
       "</div>"
      ],
      "text/plain": [
       "                  track_id  mxm_tid     word  is_test          tag  count\n",
       "113220  TRFCHDD128EF354479  8797406     page        0      Hip-Hop      1\n",
       "405527  TRSXEPD12903CE4AD5  2585491  someone        0      country      3\n",
       "193458  TRISWMQ128F427FB79  1574638      mie        0  alternative      1\n",
       "138094  TRGGCWF128F4248618  5236397    truth        0      Hip-Hop      1\n",
       "354153  TRQMZTV128F4261E8C   897515    scars        0      Hip-Hop      1"
      ]
     },
     "execution_count": 522,
     "metadata": {},
     "output_type": "execute_result"
    }
   ],
   "source": [
    "with open('genre_sample_tracks.pickle', 'rb') as f:\n",
    "    sample_tracks = pickle.load(f)\n",
    "\n",
    "sample_tracks = sample_tracks.merge(genre_sample,on='track_id',how='left',validate='m:1')\n",
    "\n",
    "# update stemmed words into their full version\n",
    "sample_tracks = sample_tracks.merge(word_convert,on='word',how='left',validate='m:1',indicator = True)\n",
    "print(\"displaying 5 random words to be updated from their stems\")\n",
    "print(sample_tracks[(sample_tracks['word']!=sample_tracks['full word'])&(sample_tracks['_merge']=='both')].sample(n=5)[['word','full word']])\n",
    "sample_tracks.loc[sample_tracks['_merge']=='both','word'] = sample_tracks['full word'] \n",
    "sample_tracks = sample_tracks.drop(columns=['full word','_merge'])\n",
    "\n",
    "# manual cleaning - beginning of word contracted \n",
    "sample_tracks.loc[sample_tracks['word']== \"'bout\",'word'] = 'about'\n",
    "sample_tracks.loc[(sample_tracks['word']== \"'cause\") | (sample_tracks['word']==\"'cos\"),'word'] = 'because' \n",
    "sample_tracks.loc[sample_tracks['word']== \"'em\",'word'] = 'them'\n",
    "sample_tracks.loc[sample_tracks['word']== \"'fore\", 'word'] = 'before'\n",
    "\n",
    "# manual cleaning - end of word contracted \n",
    "sample_tracks.loc[sample_tracks['word']== 'yea','word'] = 'yeah'\n",
    "sample_tracks.loc[sample_tracks['word']== \"gon'\", 'word'] = 'gonna'\n",
    "sample_tracks.loc[sample_tracks['word']== \"po'\", 'word'] = 'po'\n",
    "sample_tracks.loc[sample_tracks['word']== \"piu'\", 'word'] = 'piu'\n",
    "sample_tracks.loc[sample_tracks['word']== \"ol'\", 'word'] = 'old'\n",
    "sample_tracks.loc[sample_tracks['word']== \"lil'\", 'word'] = 'little'\n",
    "sample_tracks.loc[sample_tracks['word']== \"perche'\", 'word'] = 'perche'\n",
    "sample_tracks.loc[sample_tracks['word'].str.contains(\"'$\"), 'word'] = sample_tracks['word'].str.replace(\"'$\",'g')\n",
    "\n",
    "sample_tracks = sample_tracks.groupby(['track_id','mxm_tid','word','is_test','tag']).sum().reset_index()\n",
    "\n",
    "print()\n",
    "print(f\"total number of track is {len(sample_tracks.track_id.value_counts())}\")\n",
    "print(sample_tracks.groupby(['track_id','tag']).size().reset_index()['tag'].value_counts())\n",
    "sample_tracks.sample(n=5)"
   ]
  },
  {
   "cell_type": "code",
   "execution_count": 523,
   "metadata": {},
   "outputs": [
    {
     "data": {
      "text/html": [
       "<div>\n",
       "<style scoped>\n",
       "    .dataframe tbody tr th:only-of-type {\n",
       "        vertical-align: middle;\n",
       "    }\n",
       "\n",
       "    .dataframe tbody tr th {\n",
       "        vertical-align: top;\n",
       "    }\n",
       "\n",
       "    .dataframe thead th {\n",
       "        text-align: right;\n",
       "    }\n",
       "</style>\n",
       "<table border=\"1\" class=\"dataframe\">\n",
       "  <thead>\n",
       "    <tr style=\"text-align: right;\">\n",
       "      <th></th>\n",
       "      <th>track_id</th>\n",
       "      <th>mxm_tid</th>\n",
       "      <th>word</th>\n",
       "      <th>is_test</th>\n",
       "      <th>tag</th>\n",
       "      <th>count</th>\n",
       "    </tr>\n",
       "  </thead>\n",
       "  <tbody>\n",
       "    <tr>\n",
       "      <th>87013</th>\n",
       "      <td>TRDXIGQ128F1467E42</td>\n",
       "      <td>1397029</td>\n",
       "      <td>a</td>\n",
       "      <td>1</td>\n",
       "      <td>Hip-Hop</td>\n",
       "      <td>14</td>\n",
       "    </tr>\n",
       "    <tr>\n",
       "      <th>87063</th>\n",
       "      <td>TRDXIGQ128F1467E42</td>\n",
       "      <td>1397029</td>\n",
       "      <td>que</td>\n",
       "      <td>1</td>\n",
       "      <td>Hip-Hop</td>\n",
       "      <td>11</td>\n",
       "    </tr>\n",
       "    <tr>\n",
       "      <th>87025</th>\n",
       "      <td>TRDXIGQ128F1467E42</td>\n",
       "      <td>1397029</td>\n",
       "      <td>do</td>\n",
       "      <td>1</td>\n",
       "      <td>Hip-Hop</td>\n",
       "      <td>7</td>\n",
       "    </tr>\n",
       "    <tr>\n",
       "      <th>87067</th>\n",
       "      <td>TRDXIGQ128F1467E42</td>\n",
       "      <td>1397029</td>\n",
       "      <td>s</td>\n",
       "      <td>1</td>\n",
       "      <td>Hip-Hop</td>\n",
       "      <td>7</td>\n",
       "    </tr>\n",
       "    <tr>\n",
       "      <th>87042</th>\n",
       "      <td>TRDXIGQ128F1467E42</td>\n",
       "      <td>1397029</td>\n",
       "      <td>mais</td>\n",
       "      <td>1</td>\n",
       "      <td>Hip-Hop</td>\n",
       "      <td>7</td>\n",
       "    </tr>\n",
       "    <tr>\n",
       "      <th>87054</th>\n",
       "      <td>TRDXIGQ128F1467E42</td>\n",
       "      <td>1397029</td>\n",
       "      <td>o</td>\n",
       "      <td>1</td>\n",
       "      <td>Hip-Hop</td>\n",
       "      <td>7</td>\n",
       "    </tr>\n",
       "    <tr>\n",
       "      <th>87051</th>\n",
       "      <td>TRDXIGQ128F1467E42</td>\n",
       "      <td>1397029</td>\n",
       "      <td>no</td>\n",
       "      <td>1</td>\n",
       "      <td>Hip-Hop</td>\n",
       "      <td>6</td>\n",
       "    </tr>\n",
       "    <tr>\n",
       "      <th>87091</th>\n",
       "      <td>TRDXIGQ128F1467E42</td>\n",
       "      <td>1397029</td>\n",
       "      <td>um</td>\n",
       "      <td>1</td>\n",
       "      <td>Hip-Hop</td>\n",
       "      <td>5</td>\n",
       "    </tr>\n",
       "    <tr>\n",
       "      <th>87024</th>\n",
       "      <td>TRDXIGQ128F1467E42</td>\n",
       "      <td>1397029</td>\n",
       "      <td>de</td>\n",
       "      <td>1</td>\n",
       "      <td>Hip-Hop</td>\n",
       "      <td>5</td>\n",
       "    </tr>\n",
       "    <tr>\n",
       "      <th>87026</th>\n",
       "      <td>TRDXIGQ128F1467E42</td>\n",
       "      <td>1397029</td>\n",
       "      <td>e</td>\n",
       "      <td>1</td>\n",
       "      <td>Hip-Hop</td>\n",
       "      <td>5</td>\n",
       "    </tr>\n",
       "  </tbody>\n",
       "</table>\n",
       "</div>"
      ],
      "text/plain": [
       "                 track_id  mxm_tid  word  is_test      tag  count\n",
       "87013  TRDXIGQ128F1467E42  1397029     a        1  Hip-Hop     14\n",
       "87063  TRDXIGQ128F1467E42  1397029   que        1  Hip-Hop     11\n",
       "87025  TRDXIGQ128F1467E42  1397029    do        1  Hip-Hop      7\n",
       "87067  TRDXIGQ128F1467E42  1397029     s        1  Hip-Hop      7\n",
       "87042  TRDXIGQ128F1467E42  1397029  mais        1  Hip-Hop      7\n",
       "87054  TRDXIGQ128F1467E42  1397029     o        1  Hip-Hop      7\n",
       "87051  TRDXIGQ128F1467E42  1397029    no        1  Hip-Hop      6\n",
       "87091  TRDXIGQ128F1467E42  1397029    um        1  Hip-Hop      5\n",
       "87024  TRDXIGQ128F1467E42  1397029    de        1  Hip-Hop      5\n",
       "87026  TRDXIGQ128F1467E42  1397029     e        1  Hip-Hop      5"
      ]
     },
     "execution_count": 523,
     "metadata": {},
     "output_type": "execute_result"
    }
   ],
   "source": [
    "sample_tracks[sample_tracks['track_id']==\"TRDXIGQ128F1467E42\"].sort_values(by='count',ascending=False).head(10)"
   ]
  },
  {
   "cell_type": "code",
   "execution_count": 524,
   "metadata": {},
   "outputs": [
    {
     "name": "stdout",
     "output_type": "stream",
     "text": [
      "Index(['track_id', 'mxm_tid', 'word', 'is_test', 'tag', 'count'], dtype='object')\n",
      "(563532, 6)\n"
     ]
    }
   ],
   "source": [
    "print(sample_tracks.columns)\n",
    "print(sample_tracks.shape)\n"
   ]
  },
  {
   "cell_type": "code",
   "execution_count": 525,
   "metadata": {},
   "outputs": [
    {
     "data": {
      "text/plain": [
       "Series([], Name: word, dtype: int64)"
      ]
     },
     "execution_count": 525,
     "metadata": {},
     "output_type": "execute_result"
    }
   ],
   "source": [
    "sample_tracks[sample_tracks['word'].str.contains(\"qu'$\")]['word'].value_counts().tail(50)"
   ]
  },
  {
   "cell_type": "markdown",
   "metadata": {},
   "source": [
    "#### Add stop words here"
   ]
  },
  {
   "cell_type": "code",
   "execution_count": 526,
   "metadata": {},
   "outputs": [
    {
     "data": {
      "text/plain": [
       "(341883, 6)"
      ]
     },
     "execution_count": 526,
     "metadata": {},
     "output_type": "execute_result"
    }
   ],
   "source": [
    "custom_sw = ['would','because','cause','oh','ooh',\"'til\", 'gonna', 'oooh',\n",
    "             'eh', 'hey', 'uhh', 'cha','ca', 'na'\n",
    "            ]\n",
    "\n",
    "nostops = sample_tracks.copy()[\n",
    "    ~(sample_tracks['word'].isin(stopwords.words('english'))) &\n",
    "    ~(sample_tracks['word'].isin(stopwords.words('french'))) &\n",
    "    ~(sample_tracks['word'].isin(stopwords.words('german'))) &\n",
    "    ~(sample_tracks['word'].isin(stopwords.words('spanish'))) & \n",
    "    ~(sample_tracks['word'].isin(stopwords.words('italian'))) & \n",
    "    (sample_tracks['word'].str.contains('[^0-9\\W]')) &\n",
    "    ~(sample_tracks['word'].isin(custom_sw))\n",
    "    ]\n",
    "nostops.shape"
   ]
  },
  {
   "cell_type": "code",
   "execution_count": 527,
   "metadata": {},
   "outputs": [
    {
     "data": {
      "text/plain": [
       "rock           1042\n",
       "pop             958\n",
       "country         956\n",
       "alternative     948\n",
       "folk            770\n",
       "Hip-Hop         747\n",
       "blues           360\n",
       "electronic      336\n",
       "Name: tag, dtype: int64"
      ]
     },
     "execution_count": 527,
     "metadata": {},
     "output_type": "execute_result"
    }
   ],
   "source": [
    "nostops.groupby(['track_id','tag']).size().reset_index()['tag'].value_counts()"
   ]
  },
  {
   "cell_type": "markdown",
   "metadata": {},
   "source": [
    "#### Merge track names onto sample tracks"
   ]
  },
  {
   "cell_type": "code",
   "execution_count": 528,
   "metadata": {},
   "outputs": [],
   "source": [
    "sample_tracks_names = nostops.merge(track_names,on='track_id',how='left',validate='m:1')"
   ]
  },
  {
   "cell_type": "markdown",
   "metadata": {},
   "source": [
    "Data Analysis"
   ]
  },
  {
   "cell_type": "code",
   "execution_count": 534,
   "metadata": {},
   "outputs": [
    {
     "data": {
      "text/html": [
       "<div>\n",
       "<style scoped>\n",
       "    .dataframe tbody tr th:only-of-type {\n",
       "        vertical-align: middle;\n",
       "    }\n",
       "\n",
       "    .dataframe tbody tr th {\n",
       "        vertical-align: top;\n",
       "    }\n",
       "\n",
       "    .dataframe thead th {\n",
       "        text-align: right;\n",
       "    }\n",
       "</style>\n",
       "<table border=\"1\" class=\"dataframe\">\n",
       "  <thead>\n",
       "    <tr style=\"text-align: right;\">\n",
       "      <th></th>\n",
       "      <th>track_id</th>\n",
       "      <th>mxm_tid</th>\n",
       "      <th>word</th>\n",
       "      <th>is_test</th>\n",
       "      <th>tag</th>\n",
       "      <th>count</th>\n",
       "      <th>artist name</th>\n",
       "      <th>title</th>\n",
       "      <th>total word count</th>\n",
       "      <th>word share</th>\n",
       "    </tr>\n",
       "  </thead>\n",
       "  <tbody>\n",
       "    <tr>\n",
       "      <th>254038</th>\n",
       "      <td>TRTOVVZ12903CE3188</td>\n",
       "      <td>4732026</td>\n",
       "      <td>beat</td>\n",
       "      <td>0</td>\n",
       "      <td>Hip-Hop</td>\n",
       "      <td>41</td>\n",
       "      <td>The Sugarhill Gang</td>\n",
       "      <td>Rapper's Delight</td>\n",
       "      <td>1391</td>\n",
       "      <td>0.029475</td>\n",
       "    </tr>\n",
       "    <tr>\n",
       "      <th>271508</th>\n",
       "      <td>TRUYEDK128F4261A45</td>\n",
       "      <td>775223</td>\n",
       "      <td>wonder</td>\n",
       "      <td>0</td>\n",
       "      <td>pop</td>\n",
       "      <td>96</td>\n",
       "      <td>Jessica Simpson</td>\n",
       "      <td>My Wonderful</td>\n",
       "      <td>649</td>\n",
       "      <td>0.147920</td>\n",
       "    </tr>\n",
       "    <tr>\n",
       "      <th>73674</th>\n",
       "      <td>TRFLGCL128F92E389D</td>\n",
       "      <td>3160359</td>\n",
       "      <td>like</td>\n",
       "      <td>0</td>\n",
       "      <td>Hip-Hop</td>\n",
       "      <td>23</td>\n",
       "      <td>Binary Star</td>\n",
       "      <td>The KGB</td>\n",
       "      <td>530</td>\n",
       "      <td>0.043396</td>\n",
       "    </tr>\n",
       "    <tr>\n",
       "      <th>293443</th>\n",
       "      <td>TRWKCTL128F42887BD</td>\n",
       "      <td>1534201</td>\n",
       "      <td>like</td>\n",
       "      <td>1</td>\n",
       "      <td>Hip-Hop</td>\n",
       "      <td>7</td>\n",
       "      <td>Canibus</td>\n",
       "      <td>Poet Laureate II</td>\n",
       "      <td>528</td>\n",
       "      <td>0.013258</td>\n",
       "    </tr>\n",
       "    <tr>\n",
       "      <th>294543</th>\n",
       "      <td>TRWLUSE128F4288B42</td>\n",
       "      <td>1320002</td>\n",
       "      <td>like</td>\n",
       "      <td>1</td>\n",
       "      <td>Hip-Hop</td>\n",
       "      <td>7</td>\n",
       "      <td>Canibus</td>\n",
       "      <td>Poet Laureate</td>\n",
       "      <td>528</td>\n",
       "      <td>0.013258</td>\n",
       "    </tr>\n",
       "    <tr>\n",
       "      <th>19041</th>\n",
       "      <td>TRBKQJB128F934EEF7</td>\n",
       "      <td>5689498</td>\n",
       "      <td>fuck</td>\n",
       "      <td>0</td>\n",
       "      <td>Hip-Hop</td>\n",
       "      <td>48</td>\n",
       "      <td>Ying Yang Twins</td>\n",
       "      <td>1st Booty On Duty</td>\n",
       "      <td>520</td>\n",
       "      <td>0.092308</td>\n",
       "    </tr>\n",
       "    <tr>\n",
       "      <th>324018</th>\n",
       "      <td>TRYPHOG128F145DF4E</td>\n",
       "      <td>746133</td>\n",
       "      <td>shit</td>\n",
       "      <td>0</td>\n",
       "      <td>folk</td>\n",
       "      <td>15</td>\n",
       "      <td>Dexter Freebish</td>\n",
       "      <td>Falling Down</td>\n",
       "      <td>512</td>\n",
       "      <td>0.029297</td>\n",
       "    </tr>\n",
       "    <tr>\n",
       "      <th>62329</th>\n",
       "      <td>TRESBVV128E079299C</td>\n",
       "      <td>987735</td>\n",
       "      <td>cry</td>\n",
       "      <td>0</td>\n",
       "      <td>rock</td>\n",
       "      <td>89</td>\n",
       "      <td>Guns N' Roses</td>\n",
       "      <td>Don't Cry</td>\n",
       "      <td>477</td>\n",
       "      <td>0.186583</td>\n",
       "    </tr>\n",
       "    <tr>\n",
       "      <th>173458</th>\n",
       "      <td>TRNFDLJ128F427733B</td>\n",
       "      <td>1502600</td>\n",
       "      <td>life</td>\n",
       "      <td>0</td>\n",
       "      <td>Hip-Hop</td>\n",
       "      <td>22</td>\n",
       "      <td>Wu-Tang Clan</td>\n",
       "      <td>A Better Tomorrow</td>\n",
       "      <td>465</td>\n",
       "      <td>0.047312</td>\n",
       "    </tr>\n",
       "    <tr>\n",
       "      <th>303191</th>\n",
       "      <td>TRXBSRH128F9307213</td>\n",
       "      <td>4004764</td>\n",
       "      <td>let</td>\n",
       "      <td>0</td>\n",
       "      <td>pop</td>\n",
       "      <td>51</td>\n",
       "      <td>Justin Timberlake</td>\n",
       "      <td>Let's Take A Ride</td>\n",
       "      <td>453</td>\n",
       "      <td>0.112583</td>\n",
       "    </tr>\n",
       "    <tr>\n",
       "      <th>296973</th>\n",
       "      <td>TRWPQIT128F4261E8E</td>\n",
       "      <td>897513</td>\n",
       "      <td>get</td>\n",
       "      <td>0</td>\n",
       "      <td>Hip-Hop</td>\n",
       "      <td>15</td>\n",
       "      <td>Big L</td>\n",
       "      <td>8 Iz Enuff</td>\n",
       "      <td>453</td>\n",
       "      <td>0.033113</td>\n",
       "    </tr>\n",
       "    <tr>\n",
       "      <th>289705</th>\n",
       "      <td>TRWCQQZ128F92F6543</td>\n",
       "      <td>1314012</td>\n",
       "      <td>like</td>\n",
       "      <td>0</td>\n",
       "      <td>Hip-Hop</td>\n",
       "      <td>18</td>\n",
       "      <td>Xzibit</td>\n",
       "      <td>What U See Is What U Get</td>\n",
       "      <td>450</td>\n",
       "      <td>0.040000</td>\n",
       "    </tr>\n",
       "    <tr>\n",
       "      <th>332868</th>\n",
       "      <td>TRZGTBI128F9304155</td>\n",
       "      <td>7112095</td>\n",
       "      <td>go</td>\n",
       "      <td>0</td>\n",
       "      <td>Hip-Hop</td>\n",
       "      <td>55</td>\n",
       "      <td>Bizzy Bone</td>\n",
       "      <td>Mercy Mary</td>\n",
       "      <td>438</td>\n",
       "      <td>0.125571</td>\n",
       "    </tr>\n",
       "    <tr>\n",
       "      <th>217555</th>\n",
       "      <td>TRQSYLI128F423CC1E</td>\n",
       "      <td>8030015</td>\n",
       "      <td>boom</td>\n",
       "      <td>0</td>\n",
       "      <td>alternative</td>\n",
       "      <td>48</td>\n",
       "      <td>Sean Paul</td>\n",
       "      <td>Excite Me</td>\n",
       "      <td>437</td>\n",
       "      <td>0.109840</td>\n",
       "    </tr>\n",
       "    <tr>\n",
       "      <th>321566</th>\n",
       "      <td>TRYKNFH128F1494327</td>\n",
       "      <td>2699519</td>\n",
       "      <td>another</td>\n",
       "      <td>0</td>\n",
       "      <td>Hip-Hop</td>\n",
       "      <td>31</td>\n",
       "      <td>The Notorious B.I.G.</td>\n",
       "      <td>Everyday Struggle (Album Version)</td>\n",
       "      <td>425</td>\n",
       "      <td>0.072941</td>\n",
       "    </tr>\n",
       "  </tbody>\n",
       "</table>\n",
       "</div>"
      ],
      "text/plain": [
       "                  track_id  mxm_tid     word  is_test          tag  count  \\\n",
       "254038  TRTOVVZ12903CE3188  4732026     beat        0      Hip-Hop     41   \n",
       "271508  TRUYEDK128F4261A45   775223   wonder        0          pop     96   \n",
       "73674   TRFLGCL128F92E389D  3160359     like        0      Hip-Hop     23   \n",
       "293443  TRWKCTL128F42887BD  1534201     like        1      Hip-Hop      7   \n",
       "294543  TRWLUSE128F4288B42  1320002     like        1      Hip-Hop      7   \n",
       "19041   TRBKQJB128F934EEF7  5689498     fuck        0      Hip-Hop     48   \n",
       "324018  TRYPHOG128F145DF4E   746133     shit        0         folk     15   \n",
       "62329   TRESBVV128E079299C   987735      cry        0         rock     89   \n",
       "173458  TRNFDLJ128F427733B  1502600     life        0      Hip-Hop     22   \n",
       "303191  TRXBSRH128F9307213  4004764      let        0          pop     51   \n",
       "296973  TRWPQIT128F4261E8E   897513      get        0      Hip-Hop     15   \n",
       "289705  TRWCQQZ128F92F6543  1314012     like        0      Hip-Hop     18   \n",
       "332868  TRZGTBI128F9304155  7112095       go        0      Hip-Hop     55   \n",
       "217555  TRQSYLI128F423CC1E  8030015     boom        0  alternative     48   \n",
       "321566  TRYKNFH128F1494327  2699519  another        0      Hip-Hop     31   \n",
       "\n",
       "                 artist name                              title  \\\n",
       "254038    The Sugarhill Gang                   Rapper's Delight   \n",
       "271508       Jessica Simpson                       My Wonderful   \n",
       "73674            Binary Star                            The KGB   \n",
       "293443               Canibus                   Poet Laureate II   \n",
       "294543               Canibus                      Poet Laureate   \n",
       "19041        Ying Yang Twins                  1st Booty On Duty   \n",
       "324018       Dexter Freebish                       Falling Down   \n",
       "62329          Guns N' Roses                          Don't Cry   \n",
       "173458          Wu-Tang Clan                  A Better Tomorrow   \n",
       "303191     Justin Timberlake                  Let's Take A Ride   \n",
       "296973                 Big L                         8 Iz Enuff   \n",
       "289705                Xzibit           What U See Is What U Get   \n",
       "332868            Bizzy Bone                         Mercy Mary   \n",
       "217555             Sean Paul                          Excite Me   \n",
       "321566  The Notorious B.I.G.  Everyday Struggle (Album Version)   \n",
       "\n",
       "        total word count  word share  \n",
       "254038              1391    0.029475  \n",
       "271508               649    0.147920  \n",
       "73674                530    0.043396  \n",
       "293443               528    0.013258  \n",
       "294543               528    0.013258  \n",
       "19041                520    0.092308  \n",
       "324018               512    0.029297  \n",
       "62329                477    0.186583  \n",
       "173458               465    0.047312  \n",
       "303191               453    0.112583  \n",
       "296973               453    0.033113  \n",
       "289705               450    0.040000  \n",
       "332868               438    0.125571  \n",
       "217555               437    0.109840  \n",
       "321566               425    0.072941  "
      ]
     },
     "execution_count": 534,
     "metadata": {},
     "output_type": "execute_result"
    }
   ],
   "source": [
    "total_counts = sample_tracks_names.groupby('track_id')['count'].sum().reset_index()\n",
    "total_counts = total_counts.rename(columns={'count':'total word count'})\n",
    "merge = sample_tracks_names.merge(total_counts, on='track_id',how='left',validate='m:1')\n",
    "merge = merge.sort_values(by=['track_id','count'],ascending=[True,False])\n",
    "merge['word share'] = merge['count'] / merge['total word count'] \n",
    "merge.drop_duplicates(subset='track_id',keep='first').sort_values(by='total word count',ascending=False).head(15)\n"
   ]
  },
  {
   "cell_type": "code",
   "execution_count": 530,
   "metadata": {},
   "outputs": [
    {
     "data": {
      "image/png": "[encoded data removed]",
      "text/plain": [
       "<Figure size 432x288 with 1 Axes>"
      ]
     },
     "metadata": {
      "needs_background": "light"
     },
     "output_type": "display_data"
    }
   ],
   "source": [
    "import seaborn as sns\n",
    "\n",
    "g = sns.histplot(merge['total word count'])\n",
    "# g.set(xlim=(0,50))"
   ]
  },
  {
   "cell_type": "code",
   "execution_count": 531,
   "metadata": {},
   "outputs": [],
   "source": [
    "wordcountbygenre = sample_tracks_names.groupby(['tag','word'])['count'].sum().reset_index()\n",
    "wordcountbygenre = wordcountbygenre.pivot(index='word',columns='tag',values='count').reset_index()"
   ]
  },
  {
   "cell_type": "code",
   "execution_count": 533,
   "metadata": {},
   "outputs": [
    {
     "name": "stdout",
     "output_type": "stream",
     "text": [
      "Top 5 words for rock are {'know': 1233.0, 'love': 1152.0, 'go': 1085.0, 'like': 1005.0, 'get': 888.0}\n",
      "Top 5 words for pop are {'love': 2427.0, 'know': 1592.0, 'like': 1091.0, 'feel': 1005.0, 'time': 977.0}\n",
      "Top 5 words for folk are {'love': 803.0, 'know': 701.0, 'like': 685.0, 'one': 601.0, 'go': 600.0}\n",
      "Top 5 words for alternative are {'know': 1095.0, 'like': 914.0, 'go': 867.0, 'time': 832.0, 'love': 822.0}\n",
      "Top 5 words for blues are {'baby': 621.0, 'know': 557.0, 'love': 466.0, 'got': 453.0, 'time': 350.0}\n",
      "Top 5 words for country are {'love': 2060.0, 'know': 1154.0, 'like': 1105.0, 'time': 919.0, 'one': 890.0}\n",
      "Top 5 words for electronic are {'love': 354.0, 'know': 348.0, 'go': 336.0, 'feel': 315.0, 'got': 264.0}\n",
      "Top 5 words for Hip-Hop are {'like': 3135.0, 'get': 2271.0, 'got': 1792.0, 'know': 1596.0, 'one': 1241.0}\n"
     ]
    }
   ],
   "source": [
    "genres=['rock','pop','folk','alternative','blues','country','electronic', 'Hip-Hop']\n",
    "\n",
    "for genre in genres:\n",
    "    n = 5\n",
    "    topwords = wordcountbygenre.sort_values(by=genre,ascending=False)['word'].head(n).tolist()\n",
    "    topcounts = wordcountbygenre.sort_values(by=genre,ascending=False)[genre].head(n).tolist()\n",
    "    top = {k:v for (k,v) in zip(topwords,topcounts)}\n",
    "    print(f\"Top {n} words for {genre} are {top}\")"
   ]
  },
  {
   "cell_type": "markdown",
   "metadata": {},
   "source": [
    "Make data wide for modelling"
   ]
  },
  {
   "cell_type": "code",
   "execution_count": 535,
   "metadata": {},
   "outputs": [
    {
     "ename": "MemoryError",
     "evalue": "Unable to allocate 1.14 GiB for an array with shape (9662, 15856) and data type float64",
     "output_type": "error",
     "traceback": [
      "\u001b[1;31m---------------------------------------------------------------------------\u001b[0m",
      "\u001b[1;31mMemoryError\u001b[0m                               Traceback (most recent call last)",
      "\u001b[1;32m<ipython-input-535-048e0dca99b9>\u001b[0m in \u001b[0;36m<module>\u001b[1;34m\u001b[0m\n\u001b[0;32m     14\u001b[0m \u001b[0msample_wide\u001b[0m\u001b[1;33m.\u001b[0m\u001b[0mcolumns\u001b[0m \u001b[1;33m=\u001b[0m \u001b[0mnew_cols\u001b[0m\u001b[1;33m\u001b[0m\u001b[1;33m\u001b[0m\u001b[0m\n\u001b[0;32m     15\u001b[0m \u001b[0msample_wide\u001b[0m \u001b[1;33m=\u001b[0m \u001b[0msample_wide\u001b[0m\u001b[1;33m.\u001b[0m\u001b[0mreindex\u001b[0m\u001b[1;33m(\u001b[0m\u001b[0msample_wide\u001b[0m\u001b[1;33m.\u001b[0m\u001b[0mcolumns\u001b[0m\u001b[1;33m,\u001b[0m\u001b[0maxis\u001b[0m\u001b[1;33m=\u001b[0m\u001b[1;36m1\u001b[0m\u001b[1;33m)\u001b[0m\u001b[1;33m\u001b[0m\u001b[1;33m\u001b[0m\u001b[0m\n\u001b[1;32m---> 16\u001b[1;33m \u001b[0msample_wide\u001b[0m \u001b[1;33m=\u001b[0m \u001b[0msample_wide\u001b[0m\u001b[1;33m.\u001b[0m\u001b[0mmerge\u001b[0m\u001b[1;33m(\u001b[0m\u001b[0mtrack_tags_wide\u001b[0m\u001b[1;33m,\u001b[0m\u001b[0mon\u001b[0m\u001b[1;33m=\u001b[0m\u001b[1;34m'track_id'\u001b[0m\u001b[1;33m,\u001b[0m\u001b[0mhow\u001b[0m\u001b[1;33m=\u001b[0m\u001b[1;34m'left'\u001b[0m\u001b[1;33m,\u001b[0m\u001b[0mvalidate\u001b[0m\u001b[1;33m=\u001b[0m\u001b[1;34m'1:1'\u001b[0m\u001b[1;33m)\u001b[0m\u001b[1;33m\u001b[0m\u001b[1;33m\u001b[0m\u001b[0m\n\u001b[0m",
      "\u001b[1;32m~\\anaconda3\\lib\\site-packages\\pandas\\core\\frame.py\u001b[0m in \u001b[0;36mmerge\u001b[1;34m(self, right, how, on, left_on, right_on, left_index, right_index, sort, suffixes, copy, indicator, validate)\u001b[0m\n\u001b[0;32m   7944\u001b[0m         \u001b[1;32mfrom\u001b[0m \u001b[0mpandas\u001b[0m\u001b[1;33m.\u001b[0m\u001b[0mcore\u001b[0m\u001b[1;33m.\u001b[0m\u001b[0mreshape\u001b[0m\u001b[1;33m.\u001b[0m\u001b[0mmerge\u001b[0m \u001b[1;32mimport\u001b[0m \u001b[0mmerge\u001b[0m\u001b[1;33m\u001b[0m\u001b[1;33m\u001b[0m\u001b[0m\n\u001b[0;32m   7945\u001b[0m \u001b[1;33m\u001b[0m\u001b[0m\n\u001b[1;32m-> 7946\u001b[1;33m         return merge(\n\u001b[0m\u001b[0;32m   7947\u001b[0m             \u001b[0mself\u001b[0m\u001b[1;33m,\u001b[0m\u001b[1;33m\u001b[0m\u001b[1;33m\u001b[0m\u001b[0m\n\u001b[0;32m   7948\u001b[0m             \u001b[0mright\u001b[0m\u001b[1;33m,\u001b[0m\u001b[1;33m\u001b[0m\u001b[1;33m\u001b[0m\u001b[0m\n",
      "\u001b[1;32m~\\anaconda3\\lib\\site-packages\\pandas\\core\\reshape\\merge.py\u001b[0m in \u001b[0;36mmerge\u001b[1;34m(left, right, how, on, left_on, right_on, left_index, right_index, sort, suffixes, copy, indicator, validate)\u001b[0m\n\u001b[0;32m     72\u001b[0m     \u001b[0mvalidate\u001b[0m\u001b[1;33m=\u001b[0m\u001b[1;32mNone\u001b[0m\u001b[1;33m,\u001b[0m\u001b[1;33m\u001b[0m\u001b[1;33m\u001b[0m\u001b[0m\n\u001b[0;32m     73\u001b[0m ) -> \"DataFrame\":\n\u001b[1;32m---> 74\u001b[1;33m     op = _MergeOperation(\n\u001b[0m\u001b[0;32m     75\u001b[0m         \u001b[0mleft\u001b[0m\u001b[1;33m,\u001b[0m\u001b[1;33m\u001b[0m\u001b[1;33m\u001b[0m\u001b[0m\n\u001b[0;32m     76\u001b[0m         \u001b[0mright\u001b[0m\u001b[1;33m,\u001b[0m\u001b[1;33m\u001b[0m\u001b[1;33m\u001b[0m\u001b[0m\n",
      "\u001b[1;32m~\\anaconda3\\lib\\site-packages\\pandas\\core\\reshape\\merge.py\u001b[0m in \u001b[0;36m__init__\u001b[1;34m(self, left, right, how, on, left_on, right_on, axis, left_index, right_index, sort, suffixes, copy, indicator, validate)\u001b[0m\n\u001b[0;32m    650\u001b[0m             \u001b[0mself\u001b[0m\u001b[1;33m.\u001b[0m\u001b[0mright_join_keys\u001b[0m\u001b[1;33m,\u001b[0m\u001b[1;33m\u001b[0m\u001b[1;33m\u001b[0m\u001b[0m\n\u001b[0;32m    651\u001b[0m             \u001b[0mself\u001b[0m\u001b[1;33m.\u001b[0m\u001b[0mjoin_names\u001b[0m\u001b[1;33m,\u001b[0m\u001b[1;33m\u001b[0m\u001b[1;33m\u001b[0m\u001b[0m\n\u001b[1;32m--> 652\u001b[1;33m         ) = self._get_merge_keys()\n\u001b[0m\u001b[0;32m    653\u001b[0m \u001b[1;33m\u001b[0m\u001b[0m\n\u001b[0;32m    654\u001b[0m         \u001b[1;31m# validate the merge keys dtypes. We may need to coerce\u001b[0m\u001b[1;33m\u001b[0m\u001b[1;33m\u001b[0m\u001b[1;33m\u001b[0m\u001b[0m\n",
      "\u001b[1;32m~\\anaconda3\\lib\\site-packages\\pandas\\core\\reshape\\merge.py\u001b[0m in \u001b[0;36m_get_merge_keys\u001b[1;34m(self)\u001b[0m\n\u001b[0;32m   1061\u001b[0m \u001b[1;33m\u001b[0m\u001b[0m\n\u001b[0;32m   1062\u001b[0m         \u001b[1;32mif\u001b[0m \u001b[0mright_drop\u001b[0m\u001b[1;33m:\u001b[0m\u001b[1;33m\u001b[0m\u001b[1;33m\u001b[0m\u001b[0m\n\u001b[1;32m-> 1063\u001b[1;33m             \u001b[0mself\u001b[0m\u001b[1;33m.\u001b[0m\u001b[0mright\u001b[0m \u001b[1;33m=\u001b[0m \u001b[0mself\u001b[0m\u001b[1;33m.\u001b[0m\u001b[0mright\u001b[0m\u001b[1;33m.\u001b[0m\u001b[0m_drop_labels_or_levels\u001b[0m\u001b[1;33m(\u001b[0m\u001b[0mright_drop\u001b[0m\u001b[1;33m)\u001b[0m\u001b[1;33m\u001b[0m\u001b[1;33m\u001b[0m\u001b[0m\n\u001b[0m\u001b[0;32m   1064\u001b[0m \u001b[1;33m\u001b[0m\u001b[0m\n\u001b[0;32m   1065\u001b[0m         \u001b[1;32mreturn\u001b[0m \u001b[0mleft_keys\u001b[0m\u001b[1;33m,\u001b[0m \u001b[0mright_keys\u001b[0m\u001b[1;33m,\u001b[0m \u001b[0mjoin_names\u001b[0m\u001b[1;33m\u001b[0m\u001b[1;33m\u001b[0m\u001b[0m\n",
      "\u001b[1;32m~\\anaconda3\\lib\\site-packages\\pandas\\core\\generic.py\u001b[0m in \u001b[0;36m_drop_labels_or_levels\u001b[1;34m(self, keys, axis)\u001b[0m\n\u001b[0;32m   1644\u001b[0m             \u001b[1;31m# Handle dropping columns labels\u001b[0m\u001b[1;33m\u001b[0m\u001b[1;33m\u001b[0m\u001b[1;33m\u001b[0m\u001b[0m\n\u001b[0;32m   1645\u001b[0m             \u001b[1;32mif\u001b[0m \u001b[0mlabels_to_drop\u001b[0m\u001b[1;33m:\u001b[0m\u001b[1;33m\u001b[0m\u001b[1;33m\u001b[0m\u001b[0m\n\u001b[1;32m-> 1646\u001b[1;33m                 \u001b[0mdropped\u001b[0m\u001b[1;33m.\u001b[0m\u001b[0mdrop\u001b[0m\u001b[1;33m(\u001b[0m\u001b[0mlabels_to_drop\u001b[0m\u001b[1;33m,\u001b[0m \u001b[0maxis\u001b[0m\u001b[1;33m=\u001b[0m\u001b[1;36m1\u001b[0m\u001b[1;33m,\u001b[0m \u001b[0minplace\u001b[0m\u001b[1;33m=\u001b[0m\u001b[1;32mTrue\u001b[0m\u001b[1;33m)\u001b[0m\u001b[1;33m\u001b[0m\u001b[1;33m\u001b[0m\u001b[0m\n\u001b[0m\u001b[0;32m   1647\u001b[0m         \u001b[1;32melse\u001b[0m\u001b[1;33m:\u001b[0m\u001b[1;33m\u001b[0m\u001b[1;33m\u001b[0m\u001b[0m\n\u001b[0;32m   1648\u001b[0m             \u001b[1;31m# Handle dropping column levels\u001b[0m\u001b[1;33m\u001b[0m\u001b[1;33m\u001b[0m\u001b[1;33m\u001b[0m\u001b[0m\n",
      "\u001b[1;32m~\\anaconda3\\lib\\site-packages\\pandas\\core\\frame.py\u001b[0m in \u001b[0;36mdrop\u001b[1;34m(self, labels, axis, index, columns, level, inplace, errors)\u001b[0m\n\u001b[0;32m   4161\u001b[0m                 \u001b[0mweight\u001b[0m  \u001b[1;36m1.0\u001b[0m     \u001b[1;36m0.8\u001b[0m\u001b[1;33m\u001b[0m\u001b[1;33m\u001b[0m\u001b[0m\n\u001b[0;32m   4162\u001b[0m         \"\"\"\n\u001b[1;32m-> 4163\u001b[1;33m         return super().drop(\n\u001b[0m\u001b[0;32m   4164\u001b[0m             \u001b[0mlabels\u001b[0m\u001b[1;33m=\u001b[0m\u001b[0mlabels\u001b[0m\u001b[1;33m,\u001b[0m\u001b[1;33m\u001b[0m\u001b[1;33m\u001b[0m\u001b[0m\n\u001b[0;32m   4165\u001b[0m             \u001b[0maxis\u001b[0m\u001b[1;33m=\u001b[0m\u001b[0maxis\u001b[0m\u001b[1;33m,\u001b[0m\u001b[1;33m\u001b[0m\u001b[1;33m\u001b[0m\u001b[0m\n",
      "\u001b[1;32m~\\anaconda3\\lib\\site-packages\\pandas\\core\\generic.py\u001b[0m in \u001b[0;36mdrop\u001b[1;34m(self, labels, axis, index, columns, level, inplace, errors)\u001b[0m\n\u001b[0;32m   3885\u001b[0m         \u001b[1;32mfor\u001b[0m \u001b[0maxis\u001b[0m\u001b[1;33m,\u001b[0m \u001b[0mlabels\u001b[0m \u001b[1;32min\u001b[0m \u001b[0maxes\u001b[0m\u001b[1;33m.\u001b[0m\u001b[0mitems\u001b[0m\u001b[1;33m(\u001b[0m\u001b[1;33m)\u001b[0m\u001b[1;33m:\u001b[0m\u001b[1;33m\u001b[0m\u001b[1;33m\u001b[0m\u001b[0m\n\u001b[0;32m   3886\u001b[0m             \u001b[1;32mif\u001b[0m \u001b[0mlabels\u001b[0m \u001b[1;32mis\u001b[0m \u001b[1;32mnot\u001b[0m \u001b[1;32mNone\u001b[0m\u001b[1;33m:\u001b[0m\u001b[1;33m\u001b[0m\u001b[1;33m\u001b[0m\u001b[0m\n\u001b[1;32m-> 3887\u001b[1;33m                 \u001b[0mobj\u001b[0m \u001b[1;33m=\u001b[0m \u001b[0mobj\u001b[0m\u001b[1;33m.\u001b[0m\u001b[0m_drop_axis\u001b[0m\u001b[1;33m(\u001b[0m\u001b[0mlabels\u001b[0m\u001b[1;33m,\u001b[0m \u001b[0maxis\u001b[0m\u001b[1;33m,\u001b[0m \u001b[0mlevel\u001b[0m\u001b[1;33m=\u001b[0m\u001b[0mlevel\u001b[0m\u001b[1;33m,\u001b[0m \u001b[0merrors\u001b[0m\u001b[1;33m=\u001b[0m\u001b[0merrors\u001b[0m\u001b[1;33m)\u001b[0m\u001b[1;33m\u001b[0m\u001b[1;33m\u001b[0m\u001b[0m\n\u001b[0m\u001b[0;32m   3888\u001b[0m \u001b[1;33m\u001b[0m\u001b[0m\n\u001b[0;32m   3889\u001b[0m         \u001b[1;32mif\u001b[0m \u001b[0minplace\u001b[0m\u001b[1;33m:\u001b[0m\u001b[1;33m\u001b[0m\u001b[1;33m\u001b[0m\u001b[0m\n",
      "\u001b[1;32m~\\anaconda3\\lib\\site-packages\\pandas\\core\\generic.py\u001b[0m in \u001b[0;36m_drop_axis\u001b[1;34m(self, labels, axis, level, errors)\u001b[0m\n\u001b[0;32m   3920\u001b[0m             \u001b[1;32melse\u001b[0m\u001b[1;33m:\u001b[0m\u001b[1;33m\u001b[0m\u001b[1;33m\u001b[0m\u001b[0m\n\u001b[0;32m   3921\u001b[0m                 \u001b[0mnew_axis\u001b[0m \u001b[1;33m=\u001b[0m \u001b[0maxis\u001b[0m\u001b[1;33m.\u001b[0m\u001b[0mdrop\u001b[0m\u001b[1;33m(\u001b[0m\u001b[0mlabels\u001b[0m\u001b[1;33m,\u001b[0m \u001b[0merrors\u001b[0m\u001b[1;33m=\u001b[0m\u001b[0merrors\u001b[0m\u001b[1;33m)\u001b[0m\u001b[1;33m\u001b[0m\u001b[1;33m\u001b[0m\u001b[0m\n\u001b[1;32m-> 3922\u001b[1;33m             \u001b[0mresult\u001b[0m \u001b[1;33m=\u001b[0m \u001b[0mself\u001b[0m\u001b[1;33m.\u001b[0m\u001b[0mreindex\u001b[0m\u001b[1;33m(\u001b[0m\u001b[1;33m**\u001b[0m\u001b[1;33m{\u001b[0m\u001b[0maxis_name\u001b[0m\u001b[1;33m:\u001b[0m \u001b[0mnew_axis\u001b[0m\u001b[1;33m}\u001b[0m\u001b[1;33m)\u001b[0m\u001b[1;33m\u001b[0m\u001b[1;33m\u001b[0m\u001b[0m\n\u001b[0m\u001b[0;32m   3923\u001b[0m \u001b[1;33m\u001b[0m\u001b[0m\n\u001b[0;32m   3924\u001b[0m         \u001b[1;31m# Case for non-unique axis\u001b[0m\u001b[1;33m\u001b[0m\u001b[1;33m\u001b[0m\u001b[1;33m\u001b[0m\u001b[0m\n",
      "\u001b[1;32m~\\anaconda3\\lib\\site-packages\\pandas\\util\\_decorators.py\u001b[0m in \u001b[0;36mwrapper\u001b[1;34m(*args, **kwargs)\u001b[0m\n\u001b[0;32m    307\u001b[0m         \u001b[1;33m@\u001b[0m\u001b[0mwraps\u001b[0m\u001b[1;33m(\u001b[0m\u001b[0mfunc\u001b[0m\u001b[1;33m)\u001b[0m\u001b[1;33m\u001b[0m\u001b[1;33m\u001b[0m\u001b[0m\n\u001b[0;32m    308\u001b[0m         \u001b[1;32mdef\u001b[0m \u001b[0mwrapper\u001b[0m\u001b[1;33m(\u001b[0m\u001b[1;33m*\u001b[0m\u001b[0margs\u001b[0m\u001b[1;33m,\u001b[0m \u001b[1;33m**\u001b[0m\u001b[0mkwargs\u001b[0m\u001b[1;33m)\u001b[0m \u001b[1;33m->\u001b[0m \u001b[0mCallable\u001b[0m\u001b[1;33m[\u001b[0m\u001b[1;33m...\u001b[0m\u001b[1;33m,\u001b[0m \u001b[0mAny\u001b[0m\u001b[1;33m]\u001b[0m\u001b[1;33m:\u001b[0m\u001b[1;33m\u001b[0m\u001b[1;33m\u001b[0m\u001b[0m\n\u001b[1;32m--> 309\u001b[1;33m             \u001b[1;32mreturn\u001b[0m \u001b[0mfunc\u001b[0m\u001b[1;33m(\u001b[0m\u001b[1;33m*\u001b[0m\u001b[0margs\u001b[0m\u001b[1;33m,\u001b[0m \u001b[1;33m**\u001b[0m\u001b[0mkwargs\u001b[0m\u001b[1;33m)\u001b[0m\u001b[1;33m\u001b[0m\u001b[1;33m\u001b[0m\u001b[0m\n\u001b[0m\u001b[0;32m    310\u001b[0m \u001b[1;33m\u001b[0m\u001b[0m\n\u001b[0;32m    311\u001b[0m         \u001b[0mkind\u001b[0m \u001b[1;33m=\u001b[0m \u001b[0minspect\u001b[0m\u001b[1;33m.\u001b[0m\u001b[0mParameter\u001b[0m\u001b[1;33m.\u001b[0m\u001b[0mPOSITIONAL_OR_KEYWORD\u001b[0m\u001b[1;33m\u001b[0m\u001b[1;33m\u001b[0m\u001b[0m\n",
      "\u001b[1;32m~\\anaconda3\\lib\\site-packages\\pandas\\core\\frame.py\u001b[0m in \u001b[0;36mreindex\u001b[1;34m(self, *args, **kwargs)\u001b[0m\n\u001b[0;32m   4030\u001b[0m         \u001b[0mkwargs\u001b[0m\u001b[1;33m.\u001b[0m\u001b[0mpop\u001b[0m\u001b[1;33m(\u001b[0m\u001b[1;34m\"axis\"\u001b[0m\u001b[1;33m,\u001b[0m \u001b[1;32mNone\u001b[0m\u001b[1;33m)\u001b[0m\u001b[1;33m\u001b[0m\u001b[1;33m\u001b[0m\u001b[0m\n\u001b[0;32m   4031\u001b[0m         \u001b[0mkwargs\u001b[0m\u001b[1;33m.\u001b[0m\u001b[0mpop\u001b[0m\u001b[1;33m(\u001b[0m\u001b[1;34m\"labels\"\u001b[0m\u001b[1;33m,\u001b[0m \u001b[1;32mNone\u001b[0m\u001b[1;33m)\u001b[0m\u001b[1;33m\u001b[0m\u001b[1;33m\u001b[0m\u001b[0m\n\u001b[1;32m-> 4032\u001b[1;33m         \u001b[1;32mreturn\u001b[0m \u001b[0msuper\u001b[0m\u001b[1;33m(\u001b[0m\u001b[1;33m)\u001b[0m\u001b[1;33m.\u001b[0m\u001b[0mreindex\u001b[0m\u001b[1;33m(\u001b[0m\u001b[1;33m**\u001b[0m\u001b[0mkwargs\u001b[0m\u001b[1;33m)\u001b[0m\u001b[1;33m\u001b[0m\u001b[1;33m\u001b[0m\u001b[0m\n\u001b[0m\u001b[0;32m   4033\u001b[0m \u001b[1;33m\u001b[0m\u001b[0m\n\u001b[0;32m   4034\u001b[0m     def drop(\n",
      "\u001b[1;32m~\\anaconda3\\lib\\site-packages\\pandas\\core\\generic.py\u001b[0m in \u001b[0;36mreindex\u001b[1;34m(self, *args, **kwargs)\u001b[0m\n\u001b[0;32m   4459\u001b[0m \u001b[1;33m\u001b[0m\u001b[0m\n\u001b[0;32m   4460\u001b[0m         \u001b[1;31m# perform the reindex on the axes\u001b[0m\u001b[1;33m\u001b[0m\u001b[1;33m\u001b[0m\u001b[1;33m\u001b[0m\u001b[0m\n\u001b[1;32m-> 4461\u001b[1;33m         return self._reindex_axes(\n\u001b[0m\u001b[0;32m   4462\u001b[0m             \u001b[0maxes\u001b[0m\u001b[1;33m,\u001b[0m \u001b[0mlevel\u001b[0m\u001b[1;33m,\u001b[0m \u001b[0mlimit\u001b[0m\u001b[1;33m,\u001b[0m \u001b[0mtolerance\u001b[0m\u001b[1;33m,\u001b[0m \u001b[0mmethod\u001b[0m\u001b[1;33m,\u001b[0m \u001b[0mfill_value\u001b[0m\u001b[1;33m,\u001b[0m \u001b[0mcopy\u001b[0m\u001b[1;33m\u001b[0m\u001b[1;33m\u001b[0m\u001b[0m\n\u001b[0;32m   4463\u001b[0m         ).__finalize__(self, method=\"reindex\")\n",
      "\u001b[1;32m~\\anaconda3\\lib\\site-packages\\pandas\\core\\frame.py\u001b[0m in \u001b[0;36m_reindex_axes\u001b[1;34m(self, axes, level, limit, tolerance, method, fill_value, copy)\u001b[0m\n\u001b[0;32m   3870\u001b[0m         \u001b[0mcolumns\u001b[0m \u001b[1;33m=\u001b[0m \u001b[0maxes\u001b[0m\u001b[1;33m[\u001b[0m\u001b[1;34m\"columns\"\u001b[0m\u001b[1;33m]\u001b[0m\u001b[1;33m\u001b[0m\u001b[1;33m\u001b[0m\u001b[0m\n\u001b[0;32m   3871\u001b[0m         \u001b[1;32mif\u001b[0m \u001b[0mcolumns\u001b[0m \u001b[1;32mis\u001b[0m \u001b[1;32mnot\u001b[0m \u001b[1;32mNone\u001b[0m\u001b[1;33m:\u001b[0m\u001b[1;33m\u001b[0m\u001b[1;33m\u001b[0m\u001b[0m\n\u001b[1;32m-> 3872\u001b[1;33m             frame = frame._reindex_columns(\n\u001b[0m\u001b[0;32m   3873\u001b[0m                 \u001b[0mcolumns\u001b[0m\u001b[1;33m,\u001b[0m \u001b[0mmethod\u001b[0m\u001b[1;33m,\u001b[0m \u001b[0mcopy\u001b[0m\u001b[1;33m,\u001b[0m \u001b[0mlevel\u001b[0m\u001b[1;33m,\u001b[0m \u001b[0mfill_value\u001b[0m\u001b[1;33m,\u001b[0m \u001b[0mlimit\u001b[0m\u001b[1;33m,\u001b[0m \u001b[0mtolerance\u001b[0m\u001b[1;33m\u001b[0m\u001b[1;33m\u001b[0m\u001b[0m\n\u001b[0;32m   3874\u001b[0m             )\n",
      "\u001b[1;32m~\\anaconda3\\lib\\site-packages\\pandas\\core\\frame.py\u001b[0m in \u001b[0;36m_reindex_columns\u001b[1;34m(self, new_columns, method, copy, level, fill_value, limit, tolerance)\u001b[0m\n\u001b[0;32m   3915\u001b[0m             \u001b[0mnew_columns\u001b[0m\u001b[1;33m,\u001b[0m \u001b[0mmethod\u001b[0m\u001b[1;33m=\u001b[0m\u001b[0mmethod\u001b[0m\u001b[1;33m,\u001b[0m \u001b[0mlevel\u001b[0m\u001b[1;33m=\u001b[0m\u001b[0mlevel\u001b[0m\u001b[1;33m,\u001b[0m \u001b[0mlimit\u001b[0m\u001b[1;33m=\u001b[0m\u001b[0mlimit\u001b[0m\u001b[1;33m,\u001b[0m \u001b[0mtolerance\u001b[0m\u001b[1;33m=\u001b[0m\u001b[0mtolerance\u001b[0m\u001b[1;33m\u001b[0m\u001b[1;33m\u001b[0m\u001b[0m\n\u001b[0;32m   3916\u001b[0m         )\n\u001b[1;32m-> 3917\u001b[1;33m         return self._reindex_with_indexers(\n\u001b[0m\u001b[0;32m   3918\u001b[0m             \u001b[1;33m{\u001b[0m\u001b[1;36m1\u001b[0m\u001b[1;33m:\u001b[0m \u001b[1;33m[\u001b[0m\u001b[0mnew_columns\u001b[0m\u001b[1;33m,\u001b[0m \u001b[0mindexer\u001b[0m\u001b[1;33m]\u001b[0m\u001b[1;33m}\u001b[0m\u001b[1;33m,\u001b[0m\u001b[1;33m\u001b[0m\u001b[1;33m\u001b[0m\u001b[0m\n\u001b[0;32m   3919\u001b[0m             \u001b[0mcopy\u001b[0m\u001b[1;33m=\u001b[0m\u001b[0mcopy\u001b[0m\u001b[1;33m,\u001b[0m\u001b[1;33m\u001b[0m\u001b[1;33m\u001b[0m\u001b[0m\n",
      "\u001b[1;32m~\\anaconda3\\lib\\site-packages\\pandas\\core\\generic.py\u001b[0m in \u001b[0;36m_reindex_with_indexers\u001b[1;34m(self, reindexers, fill_value, copy, allow_dups)\u001b[0m\n\u001b[0;32m   4522\u001b[0m \u001b[1;33m\u001b[0m\u001b[0m\n\u001b[0;32m   4523\u001b[0m             \u001b[1;31m# TODO: speed up on homogeneous DataFrame objects\u001b[0m\u001b[1;33m\u001b[0m\u001b[1;33m\u001b[0m\u001b[1;33m\u001b[0m\u001b[0m\n\u001b[1;32m-> 4524\u001b[1;33m             new_data = new_data.reindex_indexer(\n\u001b[0m\u001b[0;32m   4525\u001b[0m                 \u001b[0mindex\u001b[0m\u001b[1;33m,\u001b[0m\u001b[1;33m\u001b[0m\u001b[1;33m\u001b[0m\u001b[0m\n\u001b[0;32m   4526\u001b[0m                 \u001b[0mindexer\u001b[0m\u001b[1;33m,\u001b[0m\u001b[1;33m\u001b[0m\u001b[1;33m\u001b[0m\u001b[0m\n",
      "\u001b[1;32m~\\anaconda3\\lib\\site-packages\\pandas\\core\\internals\\managers.py\u001b[0m in \u001b[0;36mreindex_indexer\u001b[1;34m(self, new_axis, indexer, axis, fill_value, allow_dups, copy, consolidate)\u001b[0m\n\u001b[0;32m   1280\u001b[0m \u001b[1;33m\u001b[0m\u001b[0m\n\u001b[0;32m   1281\u001b[0m         \u001b[1;32mif\u001b[0m \u001b[0maxis\u001b[0m \u001b[1;33m==\u001b[0m \u001b[1;36m0\u001b[0m\u001b[1;33m:\u001b[0m\u001b[1;33m\u001b[0m\u001b[1;33m\u001b[0m\u001b[0m\n\u001b[1;32m-> 1282\u001b[1;33m             \u001b[0mnew_blocks\u001b[0m \u001b[1;33m=\u001b[0m \u001b[0mself\u001b[0m\u001b[1;33m.\u001b[0m\u001b[0m_slice_take_blocks_ax0\u001b[0m\u001b[1;33m(\u001b[0m\u001b[0mindexer\u001b[0m\u001b[1;33m,\u001b[0m \u001b[0mfill_value\u001b[0m\u001b[1;33m=\u001b[0m\u001b[0mfill_value\u001b[0m\u001b[1;33m)\u001b[0m\u001b[1;33m\u001b[0m\u001b[1;33m\u001b[0m\u001b[0m\n\u001b[0m\u001b[0;32m   1283\u001b[0m         \u001b[1;32melse\u001b[0m\u001b[1;33m:\u001b[0m\u001b[1;33m\u001b[0m\u001b[1;33m\u001b[0m\u001b[0m\n\u001b[0;32m   1284\u001b[0m             new_blocks = [\n",
      "\u001b[1;32m~\\anaconda3\\lib\\site-packages\\pandas\\core\\internals\\managers.py\u001b[0m in \u001b[0;36m_slice_take_blocks_ax0\u001b[1;34m(self, slice_or_indexer, fill_value, only_slice)\u001b[0m\n\u001b[0;32m   1408\u001b[0m                             \u001b[0mblocks\u001b[0m\u001b[1;33m.\u001b[0m\u001b[0mappend\u001b[0m\u001b[1;33m(\u001b[0m\u001b[0mnb\u001b[0m\u001b[1;33m)\u001b[0m\u001b[1;33m\u001b[0m\u001b[1;33m\u001b[0m\u001b[0m\n\u001b[0;32m   1409\u001b[0m                     \u001b[1;32melse\u001b[0m\u001b[1;33m:\u001b[0m\u001b[1;33m\u001b[0m\u001b[1;33m\u001b[0m\u001b[0m\n\u001b[1;32m-> 1410\u001b[1;33m                         \u001b[0mnb\u001b[0m \u001b[1;33m=\u001b[0m \u001b[0mblk\u001b[0m\u001b[1;33m.\u001b[0m\u001b[0mtake_nd\u001b[0m\u001b[1;33m(\u001b[0m\u001b[0mtaker\u001b[0m\u001b[1;33m,\u001b[0m \u001b[0maxis\u001b[0m\u001b[1;33m=\u001b[0m\u001b[1;36m0\u001b[0m\u001b[1;33m,\u001b[0m \u001b[0mnew_mgr_locs\u001b[0m\u001b[1;33m=\u001b[0m\u001b[0mmgr_locs\u001b[0m\u001b[1;33m)\u001b[0m\u001b[1;33m\u001b[0m\u001b[1;33m\u001b[0m\u001b[0m\n\u001b[0m\u001b[0;32m   1411\u001b[0m                         \u001b[0mblocks\u001b[0m\u001b[1;33m.\u001b[0m\u001b[0mappend\u001b[0m\u001b[1;33m(\u001b[0m\u001b[0mnb\u001b[0m\u001b[1;33m)\u001b[0m\u001b[1;33m\u001b[0m\u001b[1;33m\u001b[0m\u001b[0m\n\u001b[0;32m   1412\u001b[0m \u001b[1;33m\u001b[0m\u001b[0m\n",
      "\u001b[1;32m~\\anaconda3\\lib\\site-packages\\pandas\\core\\internals\\blocks.py\u001b[0m in \u001b[0;36mtake_nd\u001b[1;34m(self, indexer, axis, new_mgr_locs, fill_value)\u001b[0m\n\u001b[0;32m   1253\u001b[0m             \u001b[0mallow_fill\u001b[0m \u001b[1;33m=\u001b[0m \u001b[1;32mTrue\u001b[0m\u001b[1;33m\u001b[0m\u001b[1;33m\u001b[0m\u001b[0m\n\u001b[0;32m   1254\u001b[0m \u001b[1;33m\u001b[0m\u001b[0m\n\u001b[1;32m-> 1255\u001b[1;33m         new_values = algos.take_nd(\n\u001b[0m\u001b[0;32m   1256\u001b[0m             \u001b[0mvalues\u001b[0m\u001b[1;33m,\u001b[0m \u001b[0mindexer\u001b[0m\u001b[1;33m,\u001b[0m \u001b[0maxis\u001b[0m\u001b[1;33m=\u001b[0m\u001b[0maxis\u001b[0m\u001b[1;33m,\u001b[0m \u001b[0mallow_fill\u001b[0m\u001b[1;33m=\u001b[0m\u001b[0mallow_fill\u001b[0m\u001b[1;33m,\u001b[0m \u001b[0mfill_value\u001b[0m\u001b[1;33m=\u001b[0m\u001b[0mfill_value\u001b[0m\u001b[1;33m\u001b[0m\u001b[1;33m\u001b[0m\u001b[0m\n\u001b[0;32m   1257\u001b[0m         )\n",
      "\u001b[1;32m~\\anaconda3\\lib\\site-packages\\pandas\\core\\algorithms.py\u001b[0m in \u001b[0;36mtake_nd\u001b[1;34m(arr, indexer, axis, out, fill_value, allow_fill)\u001b[0m\n\u001b[0;32m   1706\u001b[0m             \u001b[0mout\u001b[0m \u001b[1;33m=\u001b[0m \u001b[0mnp\u001b[0m\u001b[1;33m.\u001b[0m\u001b[0mempty\u001b[0m\u001b[1;33m(\u001b[0m\u001b[0mout_shape\u001b[0m\u001b[1;33m,\u001b[0m \u001b[0mdtype\u001b[0m\u001b[1;33m=\u001b[0m\u001b[0mdtype\u001b[0m\u001b[1;33m,\u001b[0m \u001b[0morder\u001b[0m\u001b[1;33m=\u001b[0m\u001b[1;34m\"F\"\u001b[0m\u001b[1;33m)\u001b[0m\u001b[1;33m\u001b[0m\u001b[1;33m\u001b[0m\u001b[0m\n\u001b[0;32m   1707\u001b[0m         \u001b[1;32melse\u001b[0m\u001b[1;33m:\u001b[0m\u001b[1;33m\u001b[0m\u001b[1;33m\u001b[0m\u001b[0m\n\u001b[1;32m-> 1708\u001b[1;33m             \u001b[0mout\u001b[0m \u001b[1;33m=\u001b[0m \u001b[0mnp\u001b[0m\u001b[1;33m.\u001b[0m\u001b[0mempty\u001b[0m\u001b[1;33m(\u001b[0m\u001b[0mout_shape\u001b[0m\u001b[1;33m,\u001b[0m \u001b[0mdtype\u001b[0m\u001b[1;33m=\u001b[0m\u001b[0mdtype\u001b[0m\u001b[1;33m)\u001b[0m\u001b[1;33m\u001b[0m\u001b[1;33m\u001b[0m\u001b[0m\n\u001b[0m\u001b[0;32m   1709\u001b[0m \u001b[1;33m\u001b[0m\u001b[0m\n\u001b[0;32m   1710\u001b[0m     func = _get_take_nd_function(\n",
      "\u001b[1;31mMemoryError\u001b[0m: Unable to allocate 1.14 GiB for an array with shape (9662, 15856) and data type float64"
     ]
    }
   ],
   "source": [
    "# reshape data into document-term matrix\n",
    "\n",
    "sample_wide = sample_tracks_names[['track_id','mxm_tid','artist name','title','word','count','tag']].pivot(\n",
    "                                    index=['track_id','mxm_tid','artist name','title','tag'],\n",
    "                                    columns='word'\n",
    "                                    ).reset_index()\n",
    "sample_wide = sample_wide.fillna(0)\n",
    "new_cols= []\n",
    "for col in sample_wide.columns:\n",
    "    if col[0] == 'count':\n",
    "        new_cols += [col[1]+' word']\n",
    "    else:\n",
    "        new_cols += [col[0]+col[1]]\n",
    "sample_wide.columns = new_cols\n",
    "sample_wide = sample_wide.reindex(sample_wide.columns,axis=1)\n",
    "sample_wide = sample_wide.merge(track_tags_wide,on='track_id',how='left',validate='1:1')"
   ]
  },
  {
   "cell_type": "code",
   "execution_count": null,
   "metadata": {},
   "outputs": [],
   "source": [
    "# preview data\n",
    "sample_wide.head()"
   ]
  },
  {
   "cell_type": "code",
   "execution_count": null,
   "metadata": {},
   "outputs": [],
   "source": [
    "# view top artists in sample\n",
    "\n",
    "pd.DataFrame(sample_wide['artist name'].value_counts()).head(10)"
   ]
  },
  {
   "cell_type": "markdown",
   "metadata": {},
   "source": [
    "# Topic Modelling"
   ]
  },
  {
   "cell_type": "code",
   "execution_count": null,
   "metadata": {},
   "outputs": [],
   "source": [
    "model_data = sample_wide \n",
    "vocab = sample_wide.filter(regex=' word$',axis=1).columns.tolist() # list of words in order of column index"
   ]
  },
  {
   "cell_type": "markdown",
   "metadata": {},
   "source": [
    "## NMF"
   ]
  },
  {
   "cell_type": "code",
   "execution_count": null,
   "metadata": {},
   "outputs": [],
   "source": [
    "# fit the transfomed content with NMF\n",
    "\n",
    "n_topics = 15\n",
    "nmf = NMF(n_components=n_topics)\n",
    "nmf.fit(model_data.filter(regex=' word$',axis=1))"
   ]
  },
  {
   "cell_type": "code",
   "execution_count": null,
   "metadata": {},
   "outputs": [],
   "source": [
    "# display the result\n",
    "from collections import defaultdict\n",
    "\n",
    "top_words_dict = {}\n",
    "top_words_count = defaultdict(int)\n",
    "for index,topic in enumerate(nmf.components_):\n",
    "    n = 20\n",
    "    print(f\"The top {n} words for topic # {index}\")\n",
    "    top_words =[vocab[i].replace(' word','') for i in topic.argsort()[:-1*n:-1]]\n",
    "    print(top_words)\n",
    "    print(\"\\n\")\n",
    "    top_words_dict[index] = top_words\n",
    "    for word in top_words:\n",
    "        top_words_count[word]+=1"
   ]
  },
  {
   "cell_type": "code",
   "execution_count": 536,
   "metadata": {
    "scrolled": false
   },
   "outputs": [],
   "source": [
    "# # Overlapping words\n",
    "# topic_top_words_df = pd.DataFrame.from_dict(top_words_count,orient='index').sort_values(by=0,ascending=False)\n",
    "# topic_top_words_df[topic_top_words_df[0]>1]"
   ]
  },
  {
   "cell_type": "code",
   "execution_count": null,
   "metadata": {},
   "outputs": [],
   "source": [
    "doc_topic = pd.DataFrame(nmf.transform(model_data.filter(regex=' word$',axis=1)))"
   ]
  },
  {
   "cell_type": "code",
   "execution_count": null,
   "metadata": {
    "scrolled": true
   },
   "outputs": [],
   "source": [
    "matrix = doc_topic.join(model_data.filter(regex='.*(?<! word)$',axis=1))\n",
    "topic_n = 0\n",
    "print(top_words_dict[topic_n])\n",
    "matrix.sort_values(by=topic_n,ascending=False)[[topic_n,'track_id','artist name','title','tag']].head(10)"
   ]
  },
  {
   "cell_type": "code",
   "execution_count": null,
   "metadata": {},
   "outputs": [],
   "source": [
    "matrix_long = matrix.melt(id_vars=['track_id','artist name','title','tag'], value_vars =list(range(n_topics)))\n",
    "matrix_long"
   ]
  },
  {
   "cell_type": "code",
   "execution_count": 444,
   "metadata": {
    "scrolled": false
   },
   "outputs": [
    {
     "name": "stderr",
     "output_type": "stream",
     "text": [
      "C:\\Users\\wal12\\anaconda3\\lib\\site-packages\\seaborn\\categorical.py:3793: UserWarning: Setting `sharex=False` with `color=None` may cause different levels of the `x` variable to share colors. This will change in a future version.\n",
      "  warnings.warn(msg.format(\"sharex\", \"x\"), UserWarning)\n"
     ]
    },
    {
     "data": {
      "image/png": "[encoded data removed]",
      "text/plain": [
       "<Figure size 360x1800 with 5 Axes>"
      ]
     },
     "metadata": {
      "needs_background": "light"
     },
     "output_type": "display_data"
    }
   ],
   "source": [
    "catplot = sns.catplot(data = matrix_long, x='tag',y='value',row='variable', kind='box',sharex=False,sharey=True)\n",
    "catplot.set(ylim=(0,0.6));"
   ]
  },
  {
   "cell_type": "code",
   "execution_count": 282,
   "metadata": {
    "scrolled": false
   },
   "outputs": [
    {
     "data": {
      "text/html": [
       "<div>\n",
       "<style scoped>\n",
       "    .dataframe tbody tr th:only-of-type {\n",
       "        vertical-align: middle;\n",
       "    }\n",
       "\n",
       "    .dataframe tbody tr th {\n",
       "        vertical-align: top;\n",
       "    }\n",
       "\n",
       "    .dataframe thead th {\n",
       "        text-align: right;\n",
       "    }\n",
       "</style>\n",
       "<table border=\"1\" class=\"dataframe\">\n",
       "  <thead>\n",
       "    <tr style=\"text-align: right;\">\n",
       "      <th></th>\n",
       "      <th>track_id</th>\n",
       "      <th>tag</th>\n",
       "      <th>word</th>\n",
       "      <th>count</th>\n",
       "    </tr>\n",
       "  </thead>\n",
       "  <tbody>\n",
       "    <tr>\n",
       "      <th>8512</th>\n",
       "      <td>TRCDMRL12903CB105C</td>\n",
       "      <td>electronic</td>\n",
       "      <td>booty</td>\n",
       "      <td>104</td>\n",
       "    </tr>\n",
       "    <tr>\n",
       "      <th>8517</th>\n",
       "      <td>TRCDMRL12903CB105C</td>\n",
       "      <td>electronic</td>\n",
       "      <td>move</td>\n",
       "      <td>92</td>\n",
       "    </tr>\n",
       "    <tr>\n",
       "      <th>8516</th>\n",
       "      <td>TRCDMRL12903CB105C</td>\n",
       "      <td>electronic</td>\n",
       "      <td>make</td>\n",
       "      <td>14</td>\n",
       "    </tr>\n",
       "    <tr>\n",
       "      <th>8513</th>\n",
       "      <td>TRCDMRL12903CB105C</td>\n",
       "      <td>electronic</td>\n",
       "      <td>dead</td>\n",
       "      <td>12</td>\n",
       "    </tr>\n",
       "    <tr>\n",
       "      <th>8518</th>\n",
       "      <td>TRCDMRL12903CB105C</td>\n",
       "      <td>electronic</td>\n",
       "      <td>must</td>\n",
       "      <td>12</td>\n",
       "    </tr>\n",
       "    <tr>\n",
       "      <th>8515</th>\n",
       "      <td>TRCDMRL12903CB105C</td>\n",
       "      <td>electronic</td>\n",
       "      <td>get</td>\n",
       "      <td>2</td>\n",
       "    </tr>\n",
       "    <tr>\n",
       "      <th>8510</th>\n",
       "      <td>TRCDMRL12903CB105C</td>\n",
       "      <td>electronic</td>\n",
       "      <td>acid</td>\n",
       "      <td>1</td>\n",
       "    </tr>\n",
       "    <tr>\n",
       "      <th>8511</th>\n",
       "      <td>TRCDMRL12903CB105C</td>\n",
       "      <td>electronic</td>\n",
       "      <td>anywhere</td>\n",
       "      <td>1</td>\n",
       "    </tr>\n",
       "    <tr>\n",
       "      <th>8514</th>\n",
       "      <td>TRCDMRL12903CB105C</td>\n",
       "      <td>electronic</td>\n",
       "      <td>easy</td>\n",
       "      <td>1</td>\n",
       "    </tr>\n",
       "  </tbody>\n",
       "</table>\n",
       "</div>"
      ],
      "text/plain": [
       "                track_id         tag      word  count\n",
       "8512  TRCDMRL12903CB105C  electronic     booty    104\n",
       "8517  TRCDMRL12903CB105C  electronic      move     92\n",
       "8516  TRCDMRL12903CB105C  electronic      make     14\n",
       "8513  TRCDMRL12903CB105C  electronic      dead     12\n",
       "8518  TRCDMRL12903CB105C  electronic      must     12\n",
       "8515  TRCDMRL12903CB105C  electronic       get      2\n",
       "8510  TRCDMRL12903CB105C  electronic      acid      1\n",
       "8511  TRCDMRL12903CB105C  electronic  anywhere      1\n",
       "8514  TRCDMRL12903CB105C  electronic      easy      1"
      ]
     },
     "execution_count": 282,
     "metadata": {},
     "output_type": "execute_result"
    }
   ],
   "source": [
    "# browse top words by track_id\n",
    "\n",
    "track_word_count = sample_tracks_names[sample_tracks_names['track_id'] == 'TRCDMRL12903CB105C'][['track_id','tag','word','count']]\n",
    "track_word_count.sort_values(by='count',ascending=False).head(20) #.pivot(index='track_id',columns='word')"
   ]
  },
  {
   "cell_type": "code",
   "execution_count": 126,
   "metadata": {},
   "outputs": [
    {
     "data": {
      "text/html": [
       "<div>\n",
       "<style scoped>\n",
       "    .dataframe tbody tr th:only-of-type {\n",
       "        vertical-align: middle;\n",
       "    }\n",
       "\n",
       "    .dataframe tbody tr th {\n",
       "        vertical-align: top;\n",
       "    }\n",
       "\n",
       "    .dataframe thead th {\n",
       "        text-align: right;\n",
       "    }\n",
       "</style>\n",
       "<table border=\"1\" class=\"dataframe\">\n",
       "  <thead>\n",
       "    <tr style=\"text-align: right;\">\n",
       "      <th></th>\n",
       "      <th>0</th>\n",
       "      <th>1</th>\n",
       "      <th>2</th>\n",
       "      <th>3</th>\n",
       "      <th>4</th>\n",
       "      <th>5</th>\n",
       "      <th>6</th>\n",
       "      <th>7</th>\n",
       "      <th>8</th>\n",
       "      <th>9</th>\n",
       "      <th>...</th>\n",
       "      <th>4988</th>\n",
       "      <th>4989</th>\n",
       "      <th>4990</th>\n",
       "      <th>4991</th>\n",
       "      <th>4992</th>\n",
       "      <th>4993</th>\n",
       "      <th>4994</th>\n",
       "      <th>4995</th>\n",
       "      <th>4996</th>\n",
       "      <th>4997</th>\n",
       "    </tr>\n",
       "  </thead>\n",
       "  <tbody>\n",
       "    <tr>\n",
       "      <th>0</th>\n",
       "      <td>1.000000</td>\n",
       "      <td>0.105067</td>\n",
       "      <td>0.190864</td>\n",
       "      <td>0.484113</td>\n",
       "      <td>0.827042</td>\n",
       "      <td>0.145218</td>\n",
       "      <td>0.028092</td>\n",
       "      <td>0.026422</td>\n",
       "      <td>0.226830</td>\n",
       "      <td>0.161834</td>\n",
       "      <td>...</td>\n",
       "      <td>0.689412</td>\n",
       "      <td>0.028088</td>\n",
       "      <td>0.015719</td>\n",
       "      <td>0.225028</td>\n",
       "      <td>0.041999</td>\n",
       "      <td>0.104114</td>\n",
       "      <td>0.008173</td>\n",
       "      <td>0.012207</td>\n",
       "      <td>0.127537</td>\n",
       "      <td>0.013845</td>\n",
       "    </tr>\n",
       "    <tr>\n",
       "      <th>1</th>\n",
       "      <td>0.105067</td>\n",
       "      <td>1.000000</td>\n",
       "      <td>0.375930</td>\n",
       "      <td>0.829919</td>\n",
       "      <td>0.446172</td>\n",
       "      <td>0.608272</td>\n",
       "      <td>0.637259</td>\n",
       "      <td>0.561201</td>\n",
       "      <td>0.677903</td>\n",
       "      <td>0.207999</td>\n",
       "      <td>...</td>\n",
       "      <td>0.544594</td>\n",
       "      <td>0.578063</td>\n",
       "      <td>0.428914</td>\n",
       "      <td>0.911645</td>\n",
       "      <td>0.625751</td>\n",
       "      <td>0.178106</td>\n",
       "      <td>0.218362</td>\n",
       "      <td>0.416278</td>\n",
       "      <td>0.610627</td>\n",
       "      <td>0.632838</td>\n",
       "    </tr>\n",
       "    <tr>\n",
       "      <th>2</th>\n",
       "      <td>0.190864</td>\n",
       "      <td>0.375930</td>\n",
       "      <td>1.000000</td>\n",
       "      <td>0.581942</td>\n",
       "      <td>0.505337</td>\n",
       "      <td>0.597027</td>\n",
       "      <td>0.579306</td>\n",
       "      <td>0.819103</td>\n",
       "      <td>0.625949</td>\n",
       "      <td>0.168755</td>\n",
       "      <td>...</td>\n",
       "      <td>0.245809</td>\n",
       "      <td>0.543089</td>\n",
       "      <td>0.389272</td>\n",
       "      <td>0.489378</td>\n",
       "      <td>0.621655</td>\n",
       "      <td>0.834108</td>\n",
       "      <td>0.804450</td>\n",
       "      <td>0.481457</td>\n",
       "      <td>0.421201</td>\n",
       "      <td>0.784296</td>\n",
       "    </tr>\n",
       "    <tr>\n",
       "      <th>3</th>\n",
       "      <td>0.484113</td>\n",
       "      <td>0.829919</td>\n",
       "      <td>0.581942</td>\n",
       "      <td>1.000000</td>\n",
       "      <td>0.791821</td>\n",
       "      <td>0.718832</td>\n",
       "      <td>0.701291</td>\n",
       "      <td>0.668242</td>\n",
       "      <td>0.647775</td>\n",
       "      <td>0.215774</td>\n",
       "      <td>...</td>\n",
       "      <td>0.597544</td>\n",
       "      <td>0.641448</td>\n",
       "      <td>0.453105</td>\n",
       "      <td>0.887020</td>\n",
       "      <td>0.699002</td>\n",
       "      <td>0.325409</td>\n",
       "      <td>0.273810</td>\n",
       "      <td>0.562087</td>\n",
       "      <td>0.500382</td>\n",
       "      <td>0.618117</td>\n",
       "    </tr>\n",
       "    <tr>\n",
       "      <th>4</th>\n",
       "      <td>0.827042</td>\n",
       "      <td>0.446172</td>\n",
       "      <td>0.505337</td>\n",
       "      <td>0.791821</td>\n",
       "      <td>1.000000</td>\n",
       "      <td>0.670011</td>\n",
       "      <td>0.581038</td>\n",
       "      <td>0.553207</td>\n",
       "      <td>0.608388</td>\n",
       "      <td>0.256680</td>\n",
       "      <td>...</td>\n",
       "      <td>0.674694</td>\n",
       "      <td>0.561309</td>\n",
       "      <td>0.362227</td>\n",
       "      <td>0.543589</td>\n",
       "      <td>0.592667</td>\n",
       "      <td>0.195230</td>\n",
       "      <td>0.127092</td>\n",
       "      <td>0.264304</td>\n",
       "      <td>0.479277</td>\n",
       "      <td>0.326179</td>\n",
       "    </tr>\n",
       "    <tr>\n",
       "      <th>...</th>\n",
       "      <td>...</td>\n",
       "      <td>...</td>\n",
       "      <td>...</td>\n",
       "      <td>...</td>\n",
       "      <td>...</td>\n",
       "      <td>...</td>\n",
       "      <td>...</td>\n",
       "      <td>...</td>\n",
       "      <td>...</td>\n",
       "      <td>...</td>\n",
       "      <td>...</td>\n",
       "      <td>...</td>\n",
       "      <td>...</td>\n",
       "      <td>...</td>\n",
       "      <td>...</td>\n",
       "      <td>...</td>\n",
       "      <td>...</td>\n",
       "      <td>...</td>\n",
       "      <td>...</td>\n",
       "      <td>...</td>\n",
       "      <td>...</td>\n",
       "    </tr>\n",
       "    <tr>\n",
       "      <th>4993</th>\n",
       "      <td>0.104114</td>\n",
       "      <td>0.178106</td>\n",
       "      <td>0.834108</td>\n",
       "      <td>0.325409</td>\n",
       "      <td>0.195230</td>\n",
       "      <td>0.157455</td>\n",
       "      <td>0.119201</td>\n",
       "      <td>0.477509</td>\n",
       "      <td>0.268912</td>\n",
       "      <td>0.077865</td>\n",
       "      <td>...</td>\n",
       "      <td>0.121420</td>\n",
       "      <td>0.112025</td>\n",
       "      <td>0.072198</td>\n",
       "      <td>0.275047</td>\n",
       "      <td>0.183265</td>\n",
       "      <td>1.000000</td>\n",
       "      <td>0.961742</td>\n",
       "      <td>0.268026</td>\n",
       "      <td>0.120889</td>\n",
       "      <td>0.559527</td>\n",
       "    </tr>\n",
       "    <tr>\n",
       "      <th>4994</th>\n",
       "      <td>0.008173</td>\n",
       "      <td>0.218362</td>\n",
       "      <td>0.804450</td>\n",
       "      <td>0.273810</td>\n",
       "      <td>0.127092</td>\n",
       "      <td>0.169139</td>\n",
       "      <td>0.142522</td>\n",
       "      <td>0.475664</td>\n",
       "      <td>0.356352</td>\n",
       "      <td>0.102717</td>\n",
       "      <td>...</td>\n",
       "      <td>0.183818</td>\n",
       "      <td>0.104550</td>\n",
       "      <td>0.247906</td>\n",
       "      <td>0.271356</td>\n",
       "      <td>0.187703</td>\n",
       "      <td>0.961742</td>\n",
       "      <td>1.000000</td>\n",
       "      <td>0.237586</td>\n",
       "      <td>0.253127</td>\n",
       "      <td>0.554092</td>\n",
       "    </tr>\n",
       "    <tr>\n",
       "      <th>4995</th>\n",
       "      <td>0.012207</td>\n",
       "      <td>0.416278</td>\n",
       "      <td>0.481457</td>\n",
       "      <td>0.562087</td>\n",
       "      <td>0.264304</td>\n",
       "      <td>0.424824</td>\n",
       "      <td>0.445678</td>\n",
       "      <td>0.478021</td>\n",
       "      <td>0.420250</td>\n",
       "      <td>0.092513</td>\n",
       "      <td>...</td>\n",
       "      <td>0.131250</td>\n",
       "      <td>0.411321</td>\n",
       "      <td>0.482649</td>\n",
       "      <td>0.445755</td>\n",
       "      <td>0.451038</td>\n",
       "      <td>0.268026</td>\n",
       "      <td>0.237586</td>\n",
       "      <td>1.000000</td>\n",
       "      <td>0.290298</td>\n",
       "      <td>0.486182</td>\n",
       "    </tr>\n",
       "    <tr>\n",
       "      <th>4996</th>\n",
       "      <td>0.127537</td>\n",
       "      <td>0.610627</td>\n",
       "      <td>0.421201</td>\n",
       "      <td>0.500382</td>\n",
       "      <td>0.479277</td>\n",
       "      <td>0.725250</td>\n",
       "      <td>0.660121</td>\n",
       "      <td>0.636865</td>\n",
       "      <td>0.944508</td>\n",
       "      <td>0.414863</td>\n",
       "      <td>...</td>\n",
       "      <td>0.608686</td>\n",
       "      <td>0.682283</td>\n",
       "      <td>0.624956</td>\n",
       "      <td>0.422579</td>\n",
       "      <td>0.681012</td>\n",
       "      <td>0.120889</td>\n",
       "      <td>0.253127</td>\n",
       "      <td>0.290298</td>\n",
       "      <td>1.000000</td>\n",
       "      <td>0.340339</td>\n",
       "    </tr>\n",
       "    <tr>\n",
       "      <th>4997</th>\n",
       "      <td>0.013845</td>\n",
       "      <td>0.632838</td>\n",
       "      <td>0.784296</td>\n",
       "      <td>0.618117</td>\n",
       "      <td>0.326179</td>\n",
       "      <td>0.490706</td>\n",
       "      <td>0.562114</td>\n",
       "      <td>0.656680</td>\n",
       "      <td>0.589889</td>\n",
       "      <td>0.164390</td>\n",
       "      <td>...</td>\n",
       "      <td>0.295022</td>\n",
       "      <td>0.477888</td>\n",
       "      <td>0.366291</td>\n",
       "      <td>0.750044</td>\n",
       "      <td>0.562334</td>\n",
       "      <td>0.559527</td>\n",
       "      <td>0.554092</td>\n",
       "      <td>0.486182</td>\n",
       "      <td>0.340339</td>\n",
       "      <td>1.000000</td>\n",
       "    </tr>\n",
       "  </tbody>\n",
       "</table>\n",
       "<p>4998 rows × 4998 columns</p>\n",
       "</div>"
      ],
      "text/plain": [
       "          0         1         2         3         4         5         6     \\\n",
       "0     1.000000  0.105067  0.190864  0.484113  0.827042  0.145218  0.028092   \n",
       "1     0.105067  1.000000  0.375930  0.829919  0.446172  0.608272  0.637259   \n",
       "2     0.190864  0.375930  1.000000  0.581942  0.505337  0.597027  0.579306   \n",
       "3     0.484113  0.829919  0.581942  1.000000  0.791821  0.718832  0.701291   \n",
       "4     0.827042  0.446172  0.505337  0.791821  1.000000  0.670011  0.581038   \n",
       "...        ...       ...       ...       ...       ...       ...       ...   \n",
       "4993  0.104114  0.178106  0.834108  0.325409  0.195230  0.157455  0.119201   \n",
       "4994  0.008173  0.218362  0.804450  0.273810  0.127092  0.169139  0.142522   \n",
       "4995  0.012207  0.416278  0.481457  0.562087  0.264304  0.424824  0.445678   \n",
       "4996  0.127537  0.610627  0.421201  0.500382  0.479277  0.725250  0.660121   \n",
       "4997  0.013845  0.632838  0.784296  0.618117  0.326179  0.490706  0.562114   \n",
       "\n",
       "          7         8         9     ...      4988      4989      4990  \\\n",
       "0     0.026422  0.226830  0.161834  ...  0.689412  0.028088  0.015719   \n",
       "1     0.561201  0.677903  0.207999  ...  0.544594  0.578063  0.428914   \n",
       "2     0.819103  0.625949  0.168755  ...  0.245809  0.543089  0.389272   \n",
       "3     0.668242  0.647775  0.215774  ...  0.597544  0.641448  0.453105   \n",
       "4     0.553207  0.608388  0.256680  ...  0.674694  0.561309  0.362227   \n",
       "...        ...       ...       ...  ...       ...       ...       ...   \n",
       "4993  0.477509  0.268912  0.077865  ...  0.121420  0.112025  0.072198   \n",
       "4994  0.475664  0.356352  0.102717  ...  0.183818  0.104550  0.247906   \n",
       "4995  0.478021  0.420250  0.092513  ...  0.131250  0.411321  0.482649   \n",
       "4996  0.636865  0.944508  0.414863  ...  0.608686  0.682283  0.624956   \n",
       "4997  0.656680  0.589889  0.164390  ...  0.295022  0.477888  0.366291   \n",
       "\n",
       "          4991      4992      4993      4994      4995      4996      4997  \n",
       "0     0.225028  0.041999  0.104114  0.008173  0.012207  0.127537  0.013845  \n",
       "1     0.911645  0.625751  0.178106  0.218362  0.416278  0.610627  0.632838  \n",
       "2     0.489378  0.621655  0.834108  0.804450  0.481457  0.421201  0.784296  \n",
       "3     0.887020  0.699002  0.325409  0.273810  0.562087  0.500382  0.618117  \n",
       "4     0.543589  0.592667  0.195230  0.127092  0.264304  0.479277  0.326179  \n",
       "...        ...       ...       ...       ...       ...       ...       ...  \n",
       "4993  0.275047  0.183265  1.000000  0.961742  0.268026  0.120889  0.559527  \n",
       "4994  0.271356  0.187703  0.961742  1.000000  0.237586  0.253127  0.554092  \n",
       "4995  0.445755  0.451038  0.268026  0.237586  1.000000  0.290298  0.486182  \n",
       "4996  0.422579  0.681012  0.120889  0.253127  0.290298  1.000000  0.340339  \n",
       "4997  0.750044  0.562334  0.559527  0.554092  0.486182  0.340339  1.000000  \n",
       "\n",
       "[4998 rows x 4998 columns]"
      ]
     },
     "execution_count": 126,
     "metadata": {},
     "output_type": "execute_result"
    }
   ],
   "source": [
    "from sklearn.metrics.pairwise import pairwise_distances\n",
    "\n",
    "pd.DataFrame(1-pairwise_distances(doc_topic, metric='cosine'))"
   ]
  },
  {
   "cell_type": "markdown",
   "metadata": {},
   "source": [
    "# EDA"
   ]
  },
  {
   "cell_type": "code",
   "execution_count": 433,
   "metadata": {},
   "outputs": [
    {
     "name": "stdout",
     "output_type": "stream",
     "text": [
      "{'right': 1.5499456279112085, 'think': 1.6647835240301811, 'back': 1.7687621068486985, 'gonna': 1.804345342700298, 'life': 1.9332599069480358, 'caus': 1.9554602457728694, 'ca': 2.2007583946776146, 'feel': 2.218364313374764, 'take': 2.397251332743021, 'want': 2.4982360957975036, 'see': 2.5378018877406614, 'make': 2.58447560785529, 'time': 2.6257704348167668, 'way': 2.7138515134125623, 'say': 3.160677169280871, 'never': 3.23984081891212, 'got': 3.333610081241892, 'like': 4.3801545695653745, 'get': 4.510157149365522, 'know': 6.293191804060141}\n",
      "\n",
      "{'like': 0.13585997843391143, 'end': 0.14419439494383005, 'hand': 0.1591230905702076, 'live': 0.16970348981559422, 'said': 0.18189006221229634, 'tear': 0.18305168614288553, 'sing': 0.18694011611424313, 'even': 0.18883383649877436, 'ghetto': 0.1976603676681758, 'youth': 0.19945365261892764, 'nuh': 0.24118831575844304, 'knew': 0.24203386304796756, 'hold': 0.24225435304874218, 'alright': 0.24336150005774224, 'eye': 0.2989160976666471, 'fi': 0.3195388882844444, 'walk': 0.37141207958545386, 'sweet': 0.660271462272303, 'life': 0.9208337856096864, 'na': 13.36296432470457}\n",
      "\n",
      "{'jesus': 0.3561772367945975, 'anyth': 0.3710922380204301, 'lord': 0.3794552149966274, 'even': 0.42112970989166393, 'heart': 0.42457873768341947, 'gonna': 0.4322465848484907, 'ladi': 0.4674055578438031, 'ay': 0.5733867850186832, 'know': 0.5752973406065772, 'watch': 0.5893036512106827, 'boy': 0.592847935809136, 'tell': 0.6250519918099684, 'happi': 0.6932129153815845, 'heel': 0.7527056280244544, 'better': 0.9418022766740737, 'broken': 1.0482716257930331, 'break': 1.1965594393608658, 'hey': 1.2073341747024857, 'yeah': 2.143510382324989, 'oh': 11.413153314305466}\n",
      "\n",
      "{'saviour': 0.4833857709505816, 'wait': 0.5087388852106425, 'eye': 0.5374857351860172, 'darl': 0.5783816808561946, 'high': 0.6056014136988367, 'make': 0.6129572563876101, 'away': 0.6684257733285834, 'heart': 0.7078021810790537, 'makin': 0.7279047138336646, 'say': 0.7485407448492839, 'cri': 0.8359254366781278, 'like': 0.8937925324444317, 'els': 0.9590078777118828, 'want': 1.0557395607086046, 'someon': 1.130460440954273, 'babi': 1.2560791915058904, 'feel': 1.3384330410821321, 'need': 1.376511079476867, 'dream': 2.2866271889514067, 'love': 11.236438353733472}\n",
      "\n",
      "{'hurt': 0.17928158816303388, 'insid': 0.18275388417996713, 'tear': 0.18358733059182114, 'want': 0.2083163283291239, 'know': 0.20911591179937153, 'go': 0.21021370296751063, 'yeah': 0.21221944078364047, 'thank': 0.26404550520888237, 'especi': 0.26420387509836785, 'cmon': 0.26431772641352463, 'round': 0.2721385514021423, 'everi': 0.2760151468711777, 'onc': 0.2781660056526845, 'back': 0.2792295872351678, 'wanna': 0.28839879274056596, 'never': 0.315824066928405, 'cri': 0.39839085865903334, 'chill': 0.9718331385664054, 'said': 1.1207178014549, 'cool': 11.160508133888055}\n",
      "\n",
      "{'whoa': 0.2754505506618792, 'court': 0.2808069973964662, 'us': 0.2910315478144689, 'wanna': 0.31820906847106667, 'yeah': 0.36401026259815356, 'board': 0.3821127167138134, 'step': 0.3838306552981664, 'power': 0.4031422616529711, 'train': 0.4051793564859203, 'gimm': 0.45631761206531146, 'better': 0.5431252970223128, 'got': 0.5665040510373549, 'time': 0.7381892729817428, 'check': 0.7580297354120945, 'get': 0.760747311127875, 'two': 0.771602437780564, 'monkey': 0.9497259046674513, 'stop': 1.0214710634022894, 'show': 1.0465537791644832, 'one': 10.474611156824004}\n",
      "\n",
      "{'groov': 0.4089081944517202, 'mind': 0.42975122011115546, 'caus': 0.4766140045419237, 'pathet': 0.5100097109509542, 'flag': 0.5121459873773505, 'ignor': 0.5128333367424949, 'wave': 0.5167751009115679, 'show': 0.5177143176179014, 'outsid': 0.5263596321472795, 'go': 0.5397328848029327, 'melt': 0.6187225026946386, 'sun': 0.6538889439911896, 'yeah': 0.8129023215649058, 'shake': 0.8928676457462571, 'hide': 0.9254647244527744, 'sky': 0.9531599828074997, 'want': 1.3052582966896786, 'beat': 3.2987589984702352, 'eat': 4.964277478442882, 'em': 9.120420455258385}\n",
      "\n",
      "{'sometim': 0.25328325946085173, 'court': 0.27882204449275383, 'thousand': 0.3102305925229559, 'someth': 0.3229433379363617, 'hear': 0.3567115609728216, 'better': 0.36413305895374287, 'right': 0.4086532162841644, 'live': 0.4992672468438067, 'anoth': 0.4996469227395953, 'like': 0.5442481921372084, 'everi': 0.579782988256855, 'jesus': 0.6266357185943295, 'heart': 0.689934904156808, 'away': 0.735941926258975, 'time': 0.7719179864561051, 'watch': 1.1463604007677244, 'happi': 1.29153090353359, 'bed': 3.1489558744320183, 'stay': 3.699735952778043, 'day': 8.534892726651554}\n",
      "\n",
      "{'danc': 0.36396258883703436, 'see': 0.43000773955274935, 'eye': 0.4326950906189012, 'music': 0.43759640024393687, 'along': 0.48906279409419856, 'light': 0.49156214152092487, 'fiesta': 0.5652640929705983, 'away': 0.6629317276725744, 'feel': 0.7387747077157452, 'play': 0.8057687139688047, 'sing': 0.8104068493590988, 'forev': 0.8571242414979295, 'go': 0.8680550716695082, 'time': 0.920177666731668, 'parti': 0.9337356954577021, 'blood': 1.0130998516488086, 'death': 1.0430119720134976, 'yeah': 1.0488674795870032, 'long': 2.731779421329472, 'night': 10.808587591056078}\n",
      "\n",
      "{'way': 0.3894718589277887, 'time': 0.4133598930862038, 'right': 0.418120476557948, 'thing': 0.4209153323241254, 'two': 0.42285722238624684, 'side': 0.43531147631953715, 'rain': 0.44097531296590253, 'gonna': 0.4648998141266559, 'ca': 0.4738382295215578, 'like': 0.4849306915720982, 'heart': 0.49180281133493414, 'step': 0.504740330629486, 'danc': 0.5250898592375212, 'back': 0.525598549554217, 'take': 0.5583238676482031, 'get': 0.7781092683910455, 'babi': 1.4794859784463634, 'flow': 1.514907259455306, 'go': 4.214611236431978, 'let': 7.483839993604366}\n",
      "\n"
     ]
    }
   ],
   "source": [
    "topics = []\n",
    "\n",
    "for topic in nmf.components_:\n",
    "    topic_words = {}\n",
    "    for i in topic.argsort()[-20:]:\n",
    "        word = vocab[i].replace(' word','')\n",
    "        topic_words[word] = topic[i]\n",
    "    print(topic_words)\n",
    "    print()\n",
    "    topics += [topic_words]"
   ]
  },
  {
   "cell_type": "code",
   "execution_count": 434,
   "metadata": {},
   "outputs": [],
   "source": [
    "# 1. Wordcloud of Top N words in each topic\n",
    "from matplotlib import pyplot as plt\n",
    "import matplotlib.pylab as pylab\n",
    "from wordcloud import WordCloud, STOPWORDS\n",
    "import matplotlib.colors as mcolors"
   ]
  },
  {
   "cell_type": "code",
   "execution_count": 436,
   "metadata": {},
   "outputs": [],
   "source": [
    "params = {'figure.figsize': (15, 10),\n",
    "         'axes.labelsize': 'x-large',\n",
    "         'axes.titlesize':'x-large',\n",
    "         'xtick.labelsize':'x-large',\n",
    "         'ytick.labelsize':'x-large'}\n",
    "          \n",
    "pylab.rcParams.update(params)"
   ]
  },
  {
   "cell_type": "code",
   "execution_count": 464,
   "metadata": {},
   "outputs": [],
   "source": [
    "def plot_cloud_pairs(n_pairs = 2,topic_start=0):\n",
    "    cols = [color for name, color in mcolors.TABLEAU_COLORS.items()]  # more colors: 'mcolors.XKCD_COLORS'\n",
    "\n",
    "    cloud = WordCloud(background_color='white',\n",
    "                      width=2500,\n",
    "                      height=1800,\n",
    "                      max_words=20,\n",
    "                      colormap='tab10',\n",
    "                      color_func=lambda *args, **kwargs: cols[i],\n",
    "                      prefer_horizontal=1.0)\n",
    "    \n",
    "    fig, axes = plt.subplots(n_pairs, 2, figsize=(10,10), sharex=True, sharey=True)\n",
    "    for i, ax in enumerate(axes.flatten()):\n",
    "        fig.add_subplot(ax)\n",
    "        cloud.generate_from_frequencies(topics[i+topic_start], max_font_size=300)\n",
    "        plt.gca().imshow(cloud)\n",
    "        plt.gca().set_title('Topic ' + str(i+topic_start+1), fontdict=dict(size=16))\n",
    "        plt.gca().axis('off')\n",
    "\n",
    "\n",
    "    plt.subplots_adjust(wspace=0, hspace=0)\n",
    "    plt.axis('off')\n",
    "    plt.margins(x=0, y=0)\n",
    "    plt.tight_layout()\n",
    "    plt.show()\n",
    "#     return fig"
   ]
  },
  {
   "cell_type": "code",
   "execution_count": 465,
   "metadata": {},
   "outputs": [
    {
     "data": {
      "image/png": "[encoded data removed]",
      "text/plain": [
       "<Figure size 720x720 with 4 Axes>"
      ]
     },
     "metadata": {
      "needs_background": "light"
     },
     "output_type": "display_data"
    }
   ],
   "source": [
    "plot_cloud_pairs()"
   ]
  },
  {
   "cell_type": "code",
   "execution_count": 466,
   "metadata": {},
   "outputs": [
    {
     "data": {
      "image/png": "[encoded data removed]",
      "text/plain": [
       "<Figure size 720x720 with 4 Axes>"
      ]
     },
     "metadata": {
      "needs_background": "light"
     },
     "output_type": "display_data"
    }
   ],
   "source": [
    "plot_cloud_pairs(n_pairs=2,topic_start=4)\n"
   ]
  },
  {
   "cell_type": "code",
   "execution_count": 467,
   "metadata": {},
   "outputs": [
    {
     "data": {
      "image/png": "[encoded data removed]",
      "text/plain": [
       "<Figure size 720x720 with 2 Axes>"
      ]
     },
     "metadata": {
      "needs_background": "light"
     },
     "output_type": "display_data"
    }
   ],
   "source": [
    "plot_cloud_pairs(n_pairs=1,topic_start=8)\n"
   ]
  },
  {
   "cell_type": "code",
   "execution_count": null,
   "metadata": {},
   "outputs": [],
   "source": [
    "topics = lda_model.show_topics(formatted=False)\n",
    "\n",
    "fig, axes = plt.subplots(2, 2, figsize=(10,10), sharex=True, sharey=True)\n",
    "\n"
   ]
  },
  {
   "cell_type": "markdown",
   "metadata": {},
   "source": [
    "# Appendix - old code"
   ]
  },
  {
   "cell_type": "code",
   "execution_count": null,
   "metadata": {},
   "outputs": [],
   "source": [
    "# Old query for lyrics\n",
    "# lyrics_query = \"\"\"\n",
    "# SELECT m.track_id, m.mxm_tid, m.word, m.count, m.is_test\n",
    "# FROM lyrics as m\n",
    "# INNER JOIN (SELECT DISTINCT track_id\n",
    "#             FROM lyrics\n",
    "#             WHERE is_test = 0\n",
    "#             LIMIT 5000\n",
    "#             ) as s\n",
    "# ON m.track_id = s.track_id\n",
    "# ORDER BY m.track_id\n",
    "# \"\"\"\n",
    "\n",
    "# sample_tracks = pd.read_sql_query(lyrics_query, mxm_conn)\n"
   ]
  },
  {
   "cell_type": "markdown",
   "metadata": {},
   "source": [
    "### LDA"
   ]
  },
  {
   "cell_type": "code",
   "execution_count": 294,
   "metadata": {},
   "outputs": [],
   "source": [
    "from gensim import corpora, models, similarities, matutils"
   ]
  },
  {
   "cell_type": "code",
   "execution_count": 317,
   "metadata": {},
   "outputs": [],
   "source": [
    "# Convert sparse matrix of counts to a gensim corpus\n",
    "corpus = matutils.Dense2Corpus(model_data.filter(regex=' word$',axis=1).to_numpy())\n",
    "\n",
    "# save mapping of row id to word\n",
    "id2word = {i:word.replace(' word','') for i, word in enumerate(vocab)}"
   ]
  },
  {
   "cell_type": "code",
   "execution_count": 322,
   "metadata": {},
   "outputs": [],
   "source": [
    "lda = models.LdaModel(corpus = corpus, num_topics = 20, id2word=id2word, passes=5)"
   ]
  },
  {
   "cell_type": "code",
   "execution_count": 323,
   "metadata": {},
   "outputs": [
    {
     "data": {
      "text/plain": [
       "[(0,\n",
       "  '0.015*\"disco\" + 0.014*\"defy\" + 0.013*\"coat\" + 0.012*\"beckon\" + 0.011*\"dieu\" + 0.011*\"awful\" + 0.010*\"conceal\" + 0.010*\"disaster\" + 0.010*\"bu\" + 0.010*\"dinero\"'),\n",
       " (1,\n",
       "  '0.010*\"forget\" + 0.007*\"bird\" + 0.007*\"broke\" + 0.007*\"general\" + 0.007*\"liquor\" + 0.007*\"anda\" + 0.007*\"enter\" + 0.006*\"bike\" + 0.006*\"hang\" + 0.006*\"ears\"'),\n",
       " (2,\n",
       "  '0.039*\"compare\" + 0.025*\"cafe\" + 0.023*\"house\" + 0.018*\"dine\" + 0.015*\"flip\" + 0.015*\"core\" + 0.014*\"comfort\" + 0.014*\"judge\" + 0.013*\"attack\" + 0.013*\"chin\"'),\n",
       " (3,\n",
       "  '0.015*\"augen\" + 0.015*\"jugar\" + 0.012*\"depression\" + 0.012*\"déjà\" + 0.012*\"dread\" + 0.010*\"blind\" + 0.009*\"infected\" + 0.009*\"automatic\" + 0.009*\"hello\" + 0.009*\"five\"'),\n",
       " (4,\n",
       "  '0.010*\"crave\" + 0.009*\"cabeza\" + 0.009*\"besser\" + 0.007*\"dig\" + 0.007*\"commit\" + 0.006*\"comb\" + 0.006*\"coz\" + 0.006*\"harder\" + 0.006*\"load\" + 0.005*\"joy\"'),\n",
       " (5,\n",
       "  '0.043*\"legs\" + 0.027*\"doctor\" + 0.027*\"cough\" + 0.020*\"cent\" + 0.020*\"anywhere\" + 0.017*\"bonnie\" + 0.016*\"button\" + 0.016*\"depths\" + 0.016*\"hanging\" + 0.015*\"chica\"'),\n",
       " (6,\n",
       "  '0.050*\"goodbye\" + 0.049*\"daughter\" + 0.042*\"apathy\" + 0.041*\"look\" + 0.039*\"aqui\" + 0.034*\"adesso\" + 0.034*\"instant\" + 0.033*\"ang\" + 0.033*\"head\" + 0.032*\"blast\"'),\n",
       " (7,\n",
       "  '0.020*\"invisible\" + 0.013*\"breaking\" + 0.011*\"jerk\" + 0.011*\"gran\" + 0.007*\"llorar\" + 0.006*\"fame\" + 0.006*\"half\" + 0.006*\"haunt\" + 0.005*\"everytime\" + 0.005*\"escucha\"'),\n",
       " (8,\n",
       "  '0.057*\"bah\" + 0.045*\"gå\" + 0.033*\"là\" + 0.032*\"blue\" + 0.032*\"jétai\" + 0.027*\"exit\" + 0.023*\"insist\" + 0.023*\"human\" + 0.020*\"behind\" + 0.019*\"att\"'),\n",
       " (9,\n",
       "  '0.037*\"july\" + 0.028*\"idle\" + 0.025*\"creature\" + 0.023*\"incredible\" + 0.023*\"fatal\" + 0.022*\"bella\" + 0.021*\"av\" + 0.021*\"awhile\" + 0.019*\"base\" + 0.017*\"kitchen\"'),\n",
       " (10,\n",
       "  '0.011*\"dum\" + 0.011*\"crucified\" + 0.009*\"grow\" + 0.009*\"heavy\" + 0.009*\"beneath\" + 0.008*\"ground\" + 0.008*\"balloon\" + 0.007*\"gut\" + 0.007*\"crew\" + 0.007*\"blew\"'),\n",
       " (11,\n",
       "  '0.009*\"information\" + 0.008*\"body\" + 0.007*\"begin\" + 0.007*\"dejes\" + 0.007*\"deceive\" + 0.007*\"car\" + 0.006*\"demais\" + 0.006*\"dolor\" + 0.006*\"fou\" + 0.006*\"embers\"'),\n",
       " (12,\n",
       "  '0.059*\"billy\" + 0.038*\"gutter\" + 0.033*\"divide\" + 0.022*\"emergency\" + 0.021*\"ilusión\" + 0.017*\"brauch\" + 0.017*\"crap\" + 0.015*\"cradle\" + 0.014*\"dive\" + 0.014*\"ladder\"'),\n",
       " (13,\n",
       "  '0.102*\"een\" + 0.037*\"great\" + 0.037*\"fashion\" + 0.035*\"comprehend\" + 0.033*\"jimmy\" + 0.030*\"ignite\" + 0.029*\"juego\" + 0.027*\"loving\" + 0.024*\"inside\" + 0.023*\"escape\"'),\n",
       " (14,\n",
       "  '0.019*\"decision\" + 0.017*\"assume\" + 0.017*\"authority\" + 0.015*\"dope\" + 0.015*\"leak\" + 0.014*\"losing\" + 0.013*\"compare\" + 0.012*\"automatic\" + 0.012*\"blame\" + 0.012*\"close\"'),\n",
       " (15,\n",
       "  '0.061*\"ashes\" + 0.044*\"livet\" + 0.042*\"guardo\" + 0.034*\"doubt\" + 0.033*\"frente\" + 0.032*\"hot\" + 0.032*\"excited\" + 0.029*\"fragments\" + 0.029*\"että\" + 0.025*\"lane\"'),\n",
       " (16,\n",
       "  '0.061*\"flight\" + 0.059*\"i\\'ma\" + 0.047*\"esperanza\" + 0.043*\"lick\" + 0.042*\"fast\" + 0.028*\"legions\" + 0.026*\"lee\" + 0.025*\"dough\" + 0.024*\"don´t\" + 0.021*\"harry\"'),\n",
       " (17,\n",
       "  '0.034*\"draw\" + 0.030*\"half\" + 0.023*\"born\" + 0.017*\"bam\" + 0.016*\"laisse\" + 0.012*\"dull\" + 0.012*\"double\" + 0.011*\"insieme\" + 0.010*\"alto\" + 0.010*\"company\"'),\n",
       " (18,\n",
       "  '0.038*\"entrar\" + 0.015*\"hacer\" + 0.014*\"lord\" + 0.013*\"don?\" + 0.013*\"ev\\'ry\" + 0.010*\"igual\" + 0.010*\"flat\" + 0.010*\"goodbye\" + 0.010*\"forged\" + 0.009*\"av\"'),\n",
       " (19,\n",
       "  '0.019*\"easily\" + 0.017*\"fist\" + 0.015*\"beam\" + 0.013*\"herida\" + 0.010*\"croire\" + 0.010*\"hotel\" + 0.010*\"box\" + 0.009*\"corazón\" + 0.009*\"despise\" + 0.009*\"fancy\"')]"
      ]
     },
     "execution_count": 323,
     "metadata": {},
     "output_type": "execute_result"
    }
   ],
   "source": [
    "lda.print_topics()"
   ]
  },
  {
   "cell_type": "code",
   "execution_count": 321,
   "metadata": {},
   "outputs": [
    {
     "data": {
      "text/plain": [
       "[[(0, 0.55501443),\n",
       "  (1, 0.11382502),\n",
       "  (3, 0.08060988),\n",
       "  (8, 0.10287768),\n",
       "  (11, 0.12943819)],\n",
       " [(0, 0.29006708), (7, 0.6173114)],\n",
       " [(7, 0.19919603), (11, 0.7313379)],\n",
       " [(0, 0.5416391),\n",
       "  (1, 0.0416688),\n",
       "  (2, 0.041669592),\n",
       "  (3, 0.041668613),\n",
       "  (4, 0.04166901),\n",
       "  (5, 0.041670382),\n",
       "  (6, 0.04166864),\n",
       "  (7, 0.04166947),\n",
       "  (8, 0.041669577),\n",
       "  (9, 0.041669365),\n",
       "  (10, 0.04166883),\n",
       "  (11, 0.041668613)],\n",
       " [(7, 0.30926988), (9, 0.62915426), (11, 0.04526509)]]"
      ]
     },
     "execution_count": 321,
     "metadata": {},
     "output_type": "execute_result"
    }
   ],
   "source": [
    "# Transform the docs from the word space to the topic space\n",
    "lda_corpus = lda[corpus]\n",
    "lda_corpus\n",
    "\n",
    "# Store the documents' topic vectors in a list so we can take a peak\n",
    "lda_docs = [doc for doc in lda_corpus]\n",
    "lda_docs[0:5]"
   ]
  }
 ],
 "metadata": {
  "kernelspec": {
   "display_name": "Python 3",
   "language": "python",
   "name": "python3"
  },
  "language_info": {
   "codemirror_mode": {
    "name": "ipython",
    "version": 3
   },
   "file_extension": ".py",
   "mimetype": "text/x-python",
   "name": "python",
   "nbconvert_exporter": "python",
   "pygments_lexer": "ipython3",
   "version": "3.8.5"
  }
 },
 "nbformat": 4,
 "nbformat_minor": 4
}
